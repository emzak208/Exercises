{
 "cells": [
  {
   "cell_type": "code",
   "execution_count": 1,
   "metadata": {},
   "outputs": [],
   "source": [
    "import os\n",
    "import numpy as np\n",
    "import pandas as pd\n",
    "import matplotlib.pyplot as plt\n",
    "from __future__ import division\n",
    "import seaborn as sns\n",
    "from category_encoders import *\n",
    "from sklearn.preprocessing import MinMaxScaler\n",
    "from sklearn.model_selection import train_test_split\n",
    "import warnings; warnings.simplefilter('ignore')\n",
    "from imblearn import under_sampling, over_sampling\n",
    "from sklearn.model_selection import train_test_split\n",
    "from imblearn.over_sampling import SMOTE\n",
    "from sklearn.metrics import accuracy_score, fbeta_score\n",
    "from sklearn.grid_search import GridSearchCV\n",
    "from sklearn.metrics import make_scorer\n",
    "from sklearn import tree, svm, ensemble\n",
    "from sklearn.svm import LinearSVC\n",
    "from sklearn.ensemble import RandomForestClassifier, ExtraTreesClassifier, AdaBoostClassifier\n",
    "import matplotlib.pyplot as pl\n",
    "from sklearn.metrics import roc_curve, auc\n",
    "from sklearn.metrics import make_scorer\n",
    "import scipy\n",
    "%matplotlib inline\n",
    "plt.style.use('ggplot')\n",
    "%matplotlib inline\n",
    "os.chdir('/Users/axjx/Documents/cap')"
   ]
  },
  {
   "cell_type": "code",
   "execution_count": 2,
   "metadata": {},
   "outputs": [],
   "source": [
    "data = pd.read_csv('data.csv')"
   ]
  },
  {
   "cell_type": "markdown",
   "metadata": {},
   "source": [
    "Data Preprocessing"
   ]
  },
  {
   "cell_type": "markdown",
   "metadata": {},
   "source": [
    "X1,X5,X12-X23 are  continuous variables; X2-X4,X6-X11 are categorial variables."
   ]
  },
  {
   "cell_type": "code",
   "execution_count": 3,
   "metadata": {},
   "outputs": [
    {
     "data": {
      "text/html": [
       "<div>\n",
       "<style scoped>\n",
       "    .dataframe tbody tr th:only-of-type {\n",
       "        vertical-align: middle;\n",
       "    }\n",
       "\n",
       "    .dataframe tbody tr th {\n",
       "        vertical-align: top;\n",
       "    }\n",
       "\n",
       "    .dataframe thead th {\n",
       "        text-align: right;\n",
       "    }\n",
       "</style>\n",
       "<table border=\"1\" class=\"dataframe\">\n",
       "  <thead>\n",
       "    <tr style=\"text-align: right;\">\n",
       "      <th></th>\n",
       "      <th>Credit_Limit</th>\n",
       "      <th>Gender</th>\n",
       "      <th>Education</th>\n",
       "      <th>Marital_Status</th>\n",
       "      <th>Age</th>\n",
       "      <th>Repay_Status1</th>\n",
       "      <th>Repay_Status2</th>\n",
       "      <th>Repay_Status3</th>\n",
       "      <th>Repay_Status4</th>\n",
       "      <th>Repay_Status5</th>\n",
       "      <th>...</th>\n",
       "      <th>Bill_Amt3</th>\n",
       "      <th>Bill_Amt4</th>\n",
       "      <th>Bill_Amt5</th>\n",
       "      <th>Bill_Amt6</th>\n",
       "      <th>Pay_Amt1</th>\n",
       "      <th>Pay_Amt2</th>\n",
       "      <th>Pay_Amt3</th>\n",
       "      <th>Pay_Amt4</th>\n",
       "      <th>Pay_Amt5</th>\n",
       "      <th>Pay_Amt6</th>\n",
       "    </tr>\n",
       "  </thead>\n",
       "  <tbody>\n",
       "    <tr>\n",
       "      <th>0</th>\n",
       "      <td>20000</td>\n",
       "      <td>2</td>\n",
       "      <td>2</td>\n",
       "      <td>1</td>\n",
       "      <td>24</td>\n",
       "      <td>2</td>\n",
       "      <td>2</td>\n",
       "      <td>-1</td>\n",
       "      <td>-1</td>\n",
       "      <td>-2</td>\n",
       "      <td>...</td>\n",
       "      <td>689</td>\n",
       "      <td>0</td>\n",
       "      <td>0</td>\n",
       "      <td>0</td>\n",
       "      <td>0</td>\n",
       "      <td>689</td>\n",
       "      <td>0</td>\n",
       "      <td>0</td>\n",
       "      <td>0</td>\n",
       "      <td>0</td>\n",
       "    </tr>\n",
       "    <tr>\n",
       "      <th>1</th>\n",
       "      <td>120000</td>\n",
       "      <td>2</td>\n",
       "      <td>2</td>\n",
       "      <td>2</td>\n",
       "      <td>26</td>\n",
       "      <td>-1</td>\n",
       "      <td>2</td>\n",
       "      <td>0</td>\n",
       "      <td>0</td>\n",
       "      <td>0</td>\n",
       "      <td>...</td>\n",
       "      <td>2682</td>\n",
       "      <td>3272</td>\n",
       "      <td>3455</td>\n",
       "      <td>3261</td>\n",
       "      <td>0</td>\n",
       "      <td>1000</td>\n",
       "      <td>1000</td>\n",
       "      <td>1000</td>\n",
       "      <td>0</td>\n",
       "      <td>2000</td>\n",
       "    </tr>\n",
       "    <tr>\n",
       "      <th>2</th>\n",
       "      <td>90000</td>\n",
       "      <td>2</td>\n",
       "      <td>2</td>\n",
       "      <td>2</td>\n",
       "      <td>34</td>\n",
       "      <td>0</td>\n",
       "      <td>0</td>\n",
       "      <td>0</td>\n",
       "      <td>0</td>\n",
       "      <td>0</td>\n",
       "      <td>...</td>\n",
       "      <td>13559</td>\n",
       "      <td>14331</td>\n",
       "      <td>14948</td>\n",
       "      <td>15549</td>\n",
       "      <td>1518</td>\n",
       "      <td>1500</td>\n",
       "      <td>1000</td>\n",
       "      <td>1000</td>\n",
       "      <td>1000</td>\n",
       "      <td>5000</td>\n",
       "    </tr>\n",
       "  </tbody>\n",
       "</table>\n",
       "<p>3 rows × 23 columns</p>\n",
       "</div>"
      ],
      "text/plain": [
       "   Credit_Limit  Gender  Education  Marital_Status  Age  Repay_Status1  \\\n",
       "0         20000       2          2               1   24              2   \n",
       "1        120000       2          2               2   26             -1   \n",
       "2         90000       2          2               2   34              0   \n",
       "\n",
       "   Repay_Status2  Repay_Status3  Repay_Status4  Repay_Status5    ...     \\\n",
       "0              2             -1             -1             -2    ...      \n",
       "1              2              0              0              0    ...      \n",
       "2              0              0              0              0    ...      \n",
       "\n",
       "   Bill_Amt3  Bill_Amt4  Bill_Amt5  Bill_Amt6  Pay_Amt1  Pay_Amt2  Pay_Amt3  \\\n",
       "0        689          0          0          0         0       689         0   \n",
       "1       2682       3272       3455       3261         0      1000      1000   \n",
       "2      13559      14331      14948      15549      1518      1500      1000   \n",
       "\n",
       "   Pay_Amt4  Pay_Amt5  Pay_Amt6  \n",
       "0         0         0         0  \n",
       "1      1000         0      2000  \n",
       "2      1000      1000      5000  \n",
       "\n",
       "[3 rows x 23 columns]"
      ]
     },
     "execution_count": 3,
     "metadata": {},
     "output_type": "execute_result"
    }
   ],
   "source": [
    "data = data.rename(index=str, columns={'X1':'Credit_Limit','X2':'Gender','X3':'Education',\n",
    "'X4':'Marital_Status','X5':'Age','X6':'Repay_Status1','X7':'Repay_Status2','X8':'Repay_Status3','X9':'Repay_Status4','X10':'Repay_Status5',\n",
    "'X11':'Repay_Status6','X12':'Bill_Amt1','X13':'Bill_Amt2','X14':'Bill_Amt3',\n",
    "'X15':'Bill_Amt4','X16':'Bill_Amt5','X17':'Bill_Amt6','X18':'Pay_Amt1','X19':'Pay_Amt2','X20':'Pay_Amt3','X21':'Pay_Amt4','X22':'Pay_Amt5','X23':'Pay_Amt6','Y':'Defaulted'})\n",
    "\n",
    "y = data['Defaulted']\n",
    "X = data.drop(['Defaulted'], axis=1)\n",
    "X.head(3)"
   ]
  },
  {
   "cell_type": "code",
   "execution_count": 4,
   "metadata": {},
   "outputs": [],
   "source": [
    "#OneHotEncoding of Categorical Variables\n",
    "categorical = ['Gender','Education','Marital_Status','Repay_Status1','Repay_Status2','Repay_Status3','Repay_Status4','Repay_Status5','Repay_Status6']\n",
    "enc = OneHotEncoder(cols=categorical,drop_invariant=True).fit(X, y)\n",
    "X = enc.transform(X)\n",
    "\n",
    "#Continuous Variables - Normalize, Scaling \n",
    "numerical = ['Credit_Limit','Age','Bill_Amt1','Bill_Amt2','Bill_Amt3','Bill_Amt4','Bill_Amt5','Bill_Amt6','Pay_Amt1','Pay_Amt2','Pay_Amt3','Pay_Amt4','Pay_Amt5','Pay_Amt6']\n",
    "#Normalize\n",
    "X[numerical] = data[numerical].apply(lambda x: np.sign(x)*np.log(abs(x) +1))\n",
    "#Scaling\n",
    "scaler = MinMaxScaler()\n",
    "X[numerical] = scaler.fit_transform(X[numerical])"
   ]
  },
  {
   "cell_type": "markdown",
   "metadata": {},
   "source": [
    "If we chose a model that always predicted an individual had default = 1, what would that model's accuracy and F-score be on this dataset?"
   ]
  },
  {
   "cell_type": "code",
   "execution_count": 5,
   "metadata": {},
   "outputs": [
    {
     "name": "stdout",
     "output_type": "stream",
     "text": [
      "Naive Predictor: [Accuracy score: 0.22, F-beta score: 0.26]\n"
     ]
    }
   ],
   "source": [
    "features_raw = data.drop('Defaulted', axis = 1)\n",
    "y_actual = y\n",
    "y_predict = np.ones(len(y))\n",
    "accuracy = accuracy_score(y_actual, y_predict)\n",
    "#Calculate F-score using the formula above for beta = 0.5\n",
    "fscore = fbeta_score(y_actual, y_predict, beta=0.5) \n",
    "print(\"Naive Predictor: [Accuracy score: {:.2f}, F-beta score: {:.2f}]\".format(accuracy, fscore))"
   ]
  },
  {
   "cell_type": "code",
   "execution_count": 8,
   "metadata": {},
   "outputs": [],
   "source": [
    "features = X"
   ]
  },
  {
   "cell_type": "markdown",
   "metadata": {},
   "source": [
    "Unbalanced Classes: Address with SMOTE"
   ]
  },
  {
   "cell_type": "code",
   "execution_count": 49,
   "metadata": {},
   "outputs": [
    {
     "name": "stdout",
     "output_type": "stream",
     "text": [
      "No. of samples in each subset after SMOTE: training = 26306, validation = 5625, testing= 7500\n",
      "% of individuals who are defaulted in the training set after SMOTE: 50.00%\n"
     ]
    }
   ],
   "source": [
    "x_train_val, x_test, y_train_val, y_test = train_test_split(features, y, test_size=.25, random_state=12)\n",
    "x_train, x_val, y_train, y_val = train_test_split(x_train_val, y_train_val, test_size = .25, random_state=12)\n",
    "\n",
    "sm = SMOTE(random_state=12, ratio = 'auto')\n",
    "x_train_res, y_train_res = sm.fit_sample(x_train, y_train)\n",
    "x_train_res = pd.DataFrame(x_train_res, columns = x_train.columns)\n",
    "n_default_res = y_train_res[y_train_res == 1].shape[0]\n",
    "default_res_percent = float(n_default_res)/float(y_train_res.size)*100\n",
    "print(\"Number of Samples after SMOTE: training: {}, validation: {}, testing: {}\"\n",
    "      .format(x_train_res.shape[0], x_val.shape[0], x_test.shape[0]))\n",
    "print(\"Percentage of individuals who defaulted in the train set after SMOTE: {:.2f}%\".format(default_res_percent))"
   ]
  },
  {
   "cell_type": "markdown",
   "metadata": {},
   "source": [
    "Predictive Modeling"
   ]
  },
  {
   "cell_type": "code",
   "execution_count": 50,
   "metadata": {},
   "outputs": [],
   "source": [
    "def train_predict(learner, X_train, y_train, X_val, y_val): \n",
    "    results = {}\n",
    "    learner = learner.fit(X_train, y_train)\n",
    "    predictions_train = learner.predict(X_train)\n",
    "    predictions_val = learner.predict(X_val)\n",
    "    results['acc_train'] = accuracy_score(y_train, predictions_train)\n",
    "    results['acc_val'] = accuracy_score(y_val, predictions_val)\n",
    "    results['f_train'] = fbeta_score(y_train, predictions_train, beta=0.5)\n",
    "    results['f_val'] = fbeta_score(y_val, predictions_val, beta=0.5)\n",
    "    print(\"\\n{} training results:\".format(learner.__class__.__name__))\n",
    "    print(\"\\tTraining accuracy: {:.2f}\".format(results['acc_train']))\n",
    "    print(\"\\n\\tTraining F-beta score: {:.2f}\".format(results['f_train']))\n",
    "    print(\"\\n\\tValidation accuracy: {:.2f}\".format(results['acc_val']))\n",
    "    print(\"\\n\\tValidation F-beta score: {:.2f}\".format(results['f_val']))"
   ]
  },
  {
   "cell_type": "markdown",
   "metadata": {},
   "source": [
    "Two Methods: AdaBoost and SVM"
   ]
  },
  {
   "cell_type": "code",
   "execution_count": 51,
   "metadata": {},
   "outputs": [
    {
     "name": "stdout",
     "output_type": "stream",
     "text": [
      "\n",
      "AdaBoostClassifier training results:\n",
      "\tTraining accuracy: 0.74\n",
      "\n",
      "\tTraining F-beta score: 0.76\n",
      "\n",
      "\tValidation accuracy: 0.76\n",
      "\n",
      "\tValidation F-beta score: 0.49\n",
      "\n",
      "SVC training results:\n",
      "\tTraining accuracy: 0.71\n",
      "\n",
      "\tTraining F-beta score: 0.73\n",
      "\n",
      "\tValidation accuracy: 0.79\n",
      "\n",
      "\tValidation F-beta score: 0.53\n"
     ]
    }
   ],
   "source": [
    "clf_1 = AdaBoostClassifier(random_state=12)\n",
    "clf_2= svm.SVC(random_state=12)\n",
    "\n",
    "for clf in [clf_1, clf_2]:\n",
    "    train_predict(clf, x_train_res, y_train_res, x_val, y_val)"
   ]
  },
  {
   "cell_type": "code",
   "execution_count": 52,
   "metadata": {},
   "outputs": [
    {
     "name": "stdout",
     "output_type": "stream",
     "text": [
      "Best parameters:  {'learning_rate': 1.2, 'n_estimators': 200}\n",
      "\n",
      "Unoptimized model\n",
      "------\n",
      "Accuracy score on validation data: 0.7630\n",
      "F-beta score on validation data: 0.4889\n",
      "\n",
      "Optimized Model\n",
      "------\n",
      "Accuracy score on validation data: 0.7742\n",
      "F-beta score on validation data: 0.4977\n"
     ]
    }
   ],
   "source": [
    "def fine_tune_model(X_train, y_train, X_val, y_val):\n",
    "    clf = AdaBoostClassifier(random_state = 1)\n",
    "    parameters = {'n_estimators' : [50,75,100,200], 'learning_rate' : [0.5,0.8,1,1.2]}\n",
    "    scorer = make_scorer(fbeta_score, beta= 0.5)\n",
    "    search_obj = GridSearchCV(clf, parameters, scoring=scorer)\n",
    "    search_fit = search_obj.fit(X_train, y_train)\n",
    "    print(\"Best parameters: \", search_fit.best_params_)\n",
    "    print()\n",
    "    best_clf = search_fit.best_estimator_\n",
    "    predictions = (clf.fit(X_train, y_train)).predict(X_val)\n",
    "    best_predictions = best_clf.predict(X_val)\n",
    "    print(\"Unoptimized model\\n------\")\n",
    "    print(\"Accuracy score on validation data: {:.4f}\".format(accuracy_score(y_val, predictions)))\n",
    "    print(\"F-beta score on validation data: {:.4f}\".format(fbeta_score(y_val, predictions, beta = 0.5)))\n",
    "    print(\"\\nOptimized Model\\n------\")\n",
    "    print(\"Accuracy score on validation data: {:.4f}\".format(accuracy_score(y_val, best_predictions)))\n",
    "    print(\"F-beta score on validation data: {:.4f}\".format(fbeta_score(y_val, best_predictions, beta = 0.5)))\n",
    "    return best_clf\n",
    "\n",
    "best_clf = fine_tune_model(x_train_res, y_train_res, x_val, y_val)"
   ]
  },
  {
   "cell_type": "code",
   "execution_count": 53,
   "metadata": {},
   "outputs": [
    {
     "name": "stdout",
     "output_type": "stream",
     "text": [
      "Accuracy score on unseen test data: 0.77\n",
      "F-beta score on unseen test data: 0.49\n"
     ]
    }
   ],
   "source": [
    "final_best_predictions = best_clf.predict(x_test)\n",
    "print(\"Accuracy score on unseen test data: {:.2f}\".format(accuracy_score(y_test, final_best_predictions)))\n",
    "print(\"F-beta score on unseen test data: {:.2f}\".format(fbeta_score(y_test, final_best_predictions, beta = 0.5)))"
   ]
  },
  {
   "cell_type": "markdown",
   "metadata": {},
   "source": [
    "Model Evaluation"
   ]
  },
  {
   "cell_type": "markdown",
   "metadata": {},
   "source": [
    "The unoptimized and optimized models performed better than the benchmark Naive predictor.\n",
    "\n",
    "The optimized model also performed  better than the unoptimized model for both the accuracy scores and F-scores."
   ]
  },
  {
   "cell_type": "code",
   "execution_count": 54,
   "metadata": {},
   "outputs": [],
   "source": [
    "def plot_roc(y_test, y_pred):\n",
    "    fpr, tpr, _ = roc_curve(y_test, y_pred)\n",
    "    roc_auc = auc(fpr, tpr)\n",
    "    lw=2\n",
    "    pl.figure()\n",
    "    pl.plot(fpr, tpr, color='darkorange', lw=lw, label='ROC curve (area = {:.2f})'.format(roc_auc))\n",
    "    pl.plot([0, 1], [0, 1], color='navy', lw=lw, linestyle='--')\n",
    "    pl.xlabel('False positive rate')\n",
    "    pl.ylabel('True positive rate')\n",
    "    pl.title('Receiver Operating Characteristics (ROC) curve')\n",
    "    pl.legend(loc=\"lower right\")\n",
    "    pl.show()"
   ]
  },
  {
   "cell_type": "code",
   "execution_count": 55,
   "metadata": {},
   "outputs": [
    {
     "data": {
      "image/png": "[encoded data removed]",
      "text/plain": [
       "<matplotlib.figure.Figure at 0x11becc470>"
      ]
     },
     "metadata": {},
     "output_type": "display_data"
    }
   ],
   "source": [
    "y_pred_proba = best_clf.predict_proba(x_test)[:, 1]\n",
    "plot_roc(y_test, y_pred_proba)"
   ]
  },
  {
   "cell_type": "code",
   "execution_count": 56,
   "metadata": {},
   "outputs": [],
   "source": [
    "def feature_plot(importances, X_train, y_train):\n",
    "    indices = np.argsort(importances)[::-1]\n",
    "    columns = X_train.columns.values[indices[:5]]\n",
    "    values = importances[indices][:5]\n",
    "    fig = pl.figure(figsize = (9,5))\n",
    "    pl.title(\"Normalized Weights for First Five Most Predictive Features\", fontsize = 16)\n",
    "    pl.bar(np.arange(5), values, width = 0.6, align=\"center\", color = '#00A000', \\\n",
    "          label = \"Feature Weight\")\n",
    "    pl.bar(np.arange(5) - 0.3, np.cumsum(values), width = 0.2, align = \"center\", color = '#00A0A0', \\\n",
    "          label = \"Cumulative Feature Weight\")\n",
    "    pl.xticks(np.arange(5), columns)\n",
    "    pl.xlim((-0.5, 4.5))\n",
    "    pl.ylabel(\"Weight\", fontsize = 12)\n",
    "    pl.xlabel(\"Feature\", fontsize = 12)\n",
    "    pl.legend(loc = 'upper center')\n",
    "    pl.tight_layout()\n",
    "    pl.show()  "
   ]
  },
  {
   "cell_type": "code",
   "execution_count": 59,
   "metadata": {},
   "outputs": [
    {
     "data": {
      "image/png": "[encoded data removed]",
      "text/plain": [
       "<matplotlib.figure.Figure at 0x11f033128>"
      ]
     },
     "metadata": {},
     "output_type": "display_data"
    }
   ],
   "source": [
    "clf = AdaBoostClassifier(random_state = 1)\n",
    "model = clf.fit(x_train_res, y_train_res)\n",
    "importances = model.feature_importances_\n",
    "feature_plot(importances, x_train_res, y_train_res)"
   ]
  },
  {
   "cell_type": "code",
   "execution_count": 82,
   "metadata": {},
   "outputs": [
    {
     "data": {
      "image/png": "[encoded data removed]",
      "text/plain": [
       "<matplotlib.figure.Figure at 0x11d1bbd30>"
      ]
     },
     "metadata": {},
     "output_type": "display_data"
    }
   ],
   "source": [
    "n = 10\n",
    "fi = model.feature_importances_\n",
    "pd.Series(fi, index=x_train_res.columns).sort_values()[-n:].plot(kind='barh');"
   ]
  },
  {
   "cell_type": "markdown",
   "metadata": {},
   "source": [
    "Feature Selection"
   ]
  },
  {
   "cell_type": "code",
   "execution_count": 81,
   "metadata": {},
   "outputs": [
    {
     "name": "stdout",
     "output_type": "stream",
     "text": [
      "Final Model trained on full data\n",
      "------\n",
      "Accuracy on testing data: 0.7742\n",
      "F-score on testing data: 0.4977\n",
      "\n",
      "Final Model trained on reduced data\n",
      "------\n",
      "Accuracy on testing data: 0.7262\n",
      "F-score on testing data: 0.4008\n"
     ]
    }
   ],
   "source": [
    "from sklearn.base import clone\n",
    "X_train_reduced = x_train_res[x_train_res.columns.values[(np.argsort(importances)[::-1])[:5]]]\n",
    "X_test_reduced = x_val[x_val.columns.values[(np.argsort(importances)[::-1])[:5]]]\n",
    "clf = (clone(best_clf)).fit(X_train_reduced, y_train_res)\n",
    "\n",
    "reduced_predictions = clf.predict(X_test_reduced)\n",
    "best_predictions = best_clf.predict(x_val)\n",
    "\n",
    "# Report scores from the final model using both versions of data\n",
    "print (\"Final Model trained on full data\\n------\")\n",
    "print (\"Accuracy on testing data: {:.4f}\".format(accuracy_score(y_val, best_predictions)))\n",
    "print (\"F-score on testing data: {:.4f}\".format(fbeta_score(y_val, best_predictions, beta = 0.5)))\n",
    "\n",
    "print (\"\\nFinal Model trained on reduced data\\n------\")\n",
    "print (\"Accuracy on testing data: {:.4f}\".format(accuracy_score(y_val, reduced_predictions)))\n",
    "print (\"F-score on testing data: {:.4f}\".format(fbeta_score(y_val, reduced_predictions, beta = 0.5)))"
   ]
  },
  {
   "cell_type": "markdown",
   "metadata": {},
   "source": [
    "The final model trained on full data outperformed the final model trained on reduced data."
   ]
  }
 ],
 "metadata": {
  "kernelspec": {
   "display_name": "Python 3",
   "language": "python",
   "name": "python3"
  },
  "language_info": {
   "codemirror_mode": {
    "name": "ipython",
    "version": 3
   },
   "file_extension": ".py",
   "mimetype": "text/x-python",
   "name": "python",
   "nbconvert_exporter": "python",
   "pygments_lexer": "ipython3",
   "version": "3.6.1"
  }
 },
 "nbformat": 4,
 "nbformat_minor": 2
}
