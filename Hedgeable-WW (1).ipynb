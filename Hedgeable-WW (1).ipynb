{
 "cells": [
  {
   "cell_type": "code",
   "execution_count": 181,
   "metadata": {
    "collapsed": true
   },
   "outputs": [],
   "source": [
    "#Import Libraries\n",
    "import sys\n",
    "sys.path.insert(0, \"/Users/wandawang/anaconda/lib/python3.6/site-packages\")\n",
    "import os\n",
    "import numpy as np\n",
    "import pandas as pd\n",
    "from pandas import Series\n",
    "import matplotlib\n",
    "%matplotlib inline\n",
    "import matplotlib.pyplot as plt\n",
    "import matplotlib.dates as mdates\n",
    "from __future__ import division\n",
    "from scipy import stats\n",
    "import seaborn as sns\n",
    "import missingno as msno\n",
    "os.chdir('/Users/wandawang/Downloads')"
   ]
  },
  {
   "cell_type": "markdown",
   "metadata": {},
   "source": [
    "Problem\n",
    "Using a dataset of past advertisements on the Internet, can we accurately predict what image will be an advertisement based on attributes of that image?\n"
   ]
  },
  {
   "cell_type": "markdown",
   "metadata": {},
   "source": [
    "1) Data Preprocessing"
   ]
  },
  {
   "cell_type": "code",
   "execution_count": 182,
   "metadata": {
    "collapsed": false
   },
   "outputs": [],
   "source": [
    "#Read in the dataset - names\n",
    "columns = pd.read_csv('column_names.txt', skiprows=3,sep=' |:', encoding='latin-1',\n",
    "                      names=['column_name', ' ', ' '] , header = None, engine='python')\n"
   ]
  },
  {
   "cell_type": "code",
   "execution_count": 183,
   "metadata": {
    "collapsed": false
   },
   "outputs": [],
   "source": [
    "#Make column names into a list to reference \n",
    "cols = columns.column_name.reset_index()\n",
    "result = cols[['column_name']]\n",
    "colnames = result.column_name.tolist()\n",
    "colnames.append('is_ad')"
   ]
  },
  {
   "cell_type": "code",
   "execution_count": 184,
   "metadata": {
    "collapsed": false
   },
   "outputs": [],
   "source": [
    "#Read in the dataset - data, pulling in column names from above\n",
    "df = pd.read_csv('data', header=None, names= colnames, index_col=None, low_memory = False)"
   ]
  },
  {
   "cell_type": "code",
   "execution_count": 227,
   "metadata": {
    "collapsed": false
   },
   "outputs": [],
   "source": [
    "#df.dtypes \n",
    "#df.shape #(3279, 1559)"
   ]
  },
  {
   "cell_type": "code",
   "execution_count": 186,
   "metadata": {
    "collapsed": false
   },
   "outputs": [
    {
     "data": {
      "text/plain": [
       "<matplotlib.axes._subplots.AxesSubplot at 0x125dffa90>"
      ]
     },
     "execution_count": 186,
     "metadata": {},
     "output_type": "execute_result"
    },
    {
     "data": {
      "image/png": "[encoded data removed]",
      "text/plain": [
       "<matplotlib.figure.Figure at 0x125dff0f0>"
      ]
     },
     "metadata": {},
     "output_type": "display_data"
    }
   ],
   "source": [
    "#Target Variable EDA. Somewhat of a class imbalance. \n",
    "df.is_ad.value_counts().plot(kind = \"bar\")"
   ]
  },
  {
   "cell_type": "code",
   "execution_count": 217,
   "metadata": {
    "collapsed": false
   },
   "outputs": [],
   "source": [
    "#Cleaning ? strings and target variable\n",
    "df.replace(to_replace='[\\s+]\\?', value=-1, regex=True, inplace=True)\n",
    "df.local = df.local.str.replace(\"?\", \"-1\")\n",
    "df.replace(to_replace='[\\s*]*nonad\\.', value=0.0, regex=True, inplace=True)\n",
    "df.replace(to_replace='[\\s*]*ad\\.', value=1.0, regex=True, inplace=True)\n",
    "df = df.apply(pd.to_numeric, errors='coerce').reset_index().drop('index', axis=1)"
   ]
  },
  {
   "cell_type": "code",
   "execution_count": 221,
   "metadata": {
    "collapsed": false
   },
   "outputs": [],
   "source": [
    "target = df['is_ad']\n",
    "df.drop(['is_ad'], axis=1, inplace=True)"
   ]
  },
  {
   "cell_type": "code",
   "execution_count": 222,
   "metadata": {
    "collapsed": false
   },
   "outputs": [
    {
     "data": {
      "text/plain": [
       "0.0    2820\n",
       "1.0     459\n",
       "Name: is_ad, dtype: int64"
      ]
     },
     "execution_count": 222,
     "metadata": {},
     "output_type": "execute_result"
    }
   ],
   "source": [
    "target.value_counts()"
   ]
  },
  {
   "cell_type": "code",
   "execution_count": 246,
   "metadata": {
    "collapsed": true
   },
   "outputs": [],
   "source": [
    "X = df\n",
    "Y = target"
   ]
  },
  {
   "cell_type": "code",
   "execution_count": 286,
   "metadata": {
    "collapsed": false
   },
   "outputs": [],
   "source": [
    "features = df.columns.tolist()"
   ]
  },
  {
   "cell_type": "markdown",
   "metadata": {},
   "source": [
    "2) Data Modeling\n",
    "\n",
    "Note: For new test sets, use above data processing tasks prior to submitting to the below modeling code"
   ]
  },
  {
   "cell_type": "code",
   "execution_count": 247,
   "metadata": {
    "collapsed": true
   },
   "outputs": [],
   "source": [
    "#Model Evaulation function \n",
    "def modeleval(X_train, X_test, Y_train, Y_test,model):\n",
    "    model=model.fit(X,Y)\n",
    "    print(\"Score: \", model.score(X, Y))\n",
    "    \n",
    "    print('---------Training Data Results---------')\n",
    "    #print \n",
    "    predicted_train = model.predict(X_train)\n",
    "    probs_train = model.predict_proba(X_train)\n",
    "    print('Accuracy: ', sklearn.metrics.accuracy_score(Y_train, predicted_train))\n",
    "    print('AUC: ', sklearn.metrics.roc_auc_score(Y_train, probs_train[:, 1]))\n",
    "    print('Confusion Matrix: ')\n",
    "    print(sklearn.metrics.confusion_matrix(Y_train, predicted_train))\n",
    "    print('Classification Report: ')\n",
    "    print(sklearn.metrics.classification_report(Y_train, predicted_train))\n",
    "    \n",
    "    print('---------Testing Data Results---------')\n",
    "    #print \n",
    "    predicted_test = model.predict(X_test)\n",
    "    probs_test = model.predict_proba(X_test)\n",
    "    print('Accuracy: ', sklearn.metrics.accuracy_score(Y_test, predicted_test))\n",
    "    print('AUC: ', sklearn.metrics.roc_auc_score(Y_test, probs_test[:, 1]))\n",
    "    print('Confusion Matrix: ')\n",
    "    print(sklearn.metrics.confusion_matrix(Y_test, predicted_test))\n",
    "    print('Classification Report: ')\n",
    "    print(sklearn.metrics.classification_report(Y_test, predicted_test))\n",
    "    return model"
   ]
  },
  {
   "cell_type": "code",
   "execution_count": 248,
   "metadata": {
    "collapsed": false
   },
   "outputs": [
    {
     "name": "stdout",
     "output_type": "stream",
     "text": [
      "Train data set ratio:  0.144808743169\n",
      "Test data set ratio:   0.130193905817\n"
     ]
    }
   ],
   "source": [
    "#Split dataset into train and test - input df dataframe \n",
    "from sklearn.cross_validation import train_test_split\n",
    "is_ad = pd.Series(target)\n",
    "X_train, X_test, Y_train, Y_test = train_test_split(df,\\\n",
    "                                        is_ad,test_size=0.33,random_state=0) \n",
    "print('Train data set ratio: ', sum(Y_train)/float(X_train['caption*home'].count()))\n",
    "print('Test data set ratio:  ', sum(Y_test)/float(X_test['caption*home'].count()))"
   ]
  },
  {
   "cell_type": "code",
   "execution_count": 249,
   "metadata": {
    "collapsed": false
   },
   "outputs": [],
   "source": [
    "from sklearn import ensemble\n",
    "randomForest = ensemble.RandomForestClassifier(n_jobs = -1, oob_score=True) #adding oob\n",
    "import sklearn.grid_search as gs"
   ]
  },
  {
   "cell_type": "code",
   "execution_count": 287,
   "metadata": {
    "collapsed": true
   },
   "outputs": [],
   "source": [
    "import warnings\n",
    "warnings.filterwarnings('ignore')"
   ]
  },
  {
   "cell_type": "code",
   "execution_count": 288,
   "metadata": {
    "collapsed": false
   },
   "outputs": [
    {
     "name": "stdout",
     "output_type": "stream",
     "text": [
      "The best score is 0.9321\n",
      "The best parameters are {'criterion': 'gini', 'max_depth': 10, 'min_samples_leaf': 10, 'n_estimators': 10}\n",
      "The training error is 0.0656\n",
      "The testing error is 0.0637\n"
     ]
    }
   ],
   "source": [
    "grid_para_forest = [{\"n_estimators\": [10], \"criterion\": [\"gini\", \"entropy\"], \n",
    "                     'max_depth': [10], \"min_samples_leaf\": [10]}]\n",
    "\n",
    "\n",
    "grid_search_forest = gs.GridSearchCV(randomForest, grid_para_forest, \\\n",
    "          cv=5, scoring='accuracy').fit(X_train, Y_train)\n",
    "#5 fold cross validation used\n",
    "print('The best score is %.4f' %grid_search_forest.best_score_)\n",
    "print('The best parameters are %s' %grid_search_forest.best_params_)\n",
    "print('The training error is %.4f' %(1 - grid_search_forest.best_estimator_.score(X_train, Y_train)))\n",
    "print('The testing error is %.4f' %(1 - grid_search_forest.best_estimator_.score(X_test, Y_test)))"
   ]
  },
  {
   "cell_type": "code",
   "execution_count": 289,
   "metadata": {
    "collapsed": false
   },
   "outputs": [
    {
     "name": "stdout",
     "output_type": "stream",
     "text": [
      "Score:  0.941140591644\n",
      "---------Training Data Results---------\n",
      "Accuracy:  0.937158469945\n",
      "AUC:  0.964881347077\n",
      "Confusion Matrix: \n",
      "[[1877    1]\n",
      " [ 137  181]]\n",
      "Classification Report: \n",
      "             precision    recall  f1-score   support\n",
      "\n",
      "        0.0       0.93      1.00      0.96      1878\n",
      "        1.0       0.99      0.57      0.72       318\n",
      "\n",
      "avg / total       0.94      0.94      0.93      2196\n",
      "\n",
      "---------Testing Data Results---------\n",
      "Accuracy:  0.949215143121\n",
      "AUC:  0.963684479981\n",
      "Confusion Matrix: \n",
      "[[940   2]\n",
      " [ 53  88]]\n",
      "Classification Report: \n",
      "             precision    recall  f1-score   support\n",
      "\n",
      "        0.0       0.95      1.00      0.97       942\n",
      "        1.0       0.98      0.62      0.76       141\n",
      "\n",
      "avg / total       0.95      0.95      0.94      1083\n",
      "\n"
     ]
    },
    {
     "data": {
      "text/plain": [
       "GridSearchCV(cv=5, error_score='raise',\n",
       "       estimator=RandomForestClassifier(bootstrap=True, class_weight=None, criterion='gini',\n",
       "            max_depth=None, max_features='auto', max_leaf_nodes=None,\n",
       "            min_impurity_split=1e-07, min_samples_leaf=1,\n",
       "            min_samples_split=2, min_weight_fraction_leaf=0.0,\n",
       "            n_estimators=10, n_jobs=-1, oob_score=True, random_state=None,\n",
       "            verbose=0, warm_start=False),\n",
       "       fit_params={}, iid=True, n_jobs=1,\n",
       "       param_grid=[{'n_estimators': [10], 'criterion': ['gini', 'entropy'], 'max_depth': [10], 'min_samples_leaf': [10]}],\n",
       "       pre_dispatch='2*n_jobs', refit=True, scoring='accuracy', verbose=0)"
      ]
     },
     "execution_count": 289,
     "metadata": {},
     "output_type": "execute_result"
    }
   ],
   "source": [
    "modeleval(X_train, X_test, Y_train, Y_test,grid_search_forest)"
   ]
  },
  {
   "cell_type": "code",
   "execution_count": 291,
   "metadata": {
    "collapsed": false
   },
   "outputs": [
    {
     "data": {
      "text/plain": [
       "[('width', 0.14690430768504992),\n",
       " ('ancurl*com', 0.072028304502034832),\n",
       " ('ancurl*click', 0.062653393652928768),\n",
       " ('alt*click+here', 0.037322128828377259),\n",
       " ('ancurl*2f', 0.036765851415326803),\n",
       " ('ancurl*type', 0.034896936946240541),\n",
       " ('ancurl*http+www', 0.032231553035424451),\n",
       " ('ancurl*redirect', 0.028835536731928409),\n",
       " ('ancurl*redirect+http', 0.028220669718703857),\n",
       " ('aratio', 0.027608706530594513)]"
      ]
     },
     "execution_count": 291,
     "metadata": {},
     "output_type": "execute_result"
    }
   ],
   "source": [
    "forest_final = grid_search_forest.best_estimator_\n",
    "feature_imprtance = list(zip(X_train.columns, forest_final.feature_importances_))\n",
    "dtype = [('feature', 'S30'), ('importance', 'float')]\n",
    "feature_imprtance #list of tuples\n",
    "feature_imprtance.sort(key=lambda tup: tup[1], reverse=True)\n",
    "feature_imprtance[0:10]"
   ]
  },
  {
   "cell_type": "code",
   "execution_count": 292,
   "metadata": {
    "collapsed": false
   },
   "outputs": [
    {
     "data": {
      "text/plain": [
       "GradientBoostingClassifier(criterion='friedman_mse', init=None,\n",
       "              learning_rate=0.05, loss='deviance', max_depth=3,\n",
       "              max_features=7, max_leaf_nodes=None,\n",
       "              min_impurity_split=1e-07, min_samples_leaf=1,\n",
       "              min_samples_split=2, min_weight_fraction_leaf=0.0,\n",
       "              n_estimators=100, presort='auto', random_state=2015,\n",
       "              subsample=1.0, verbose=0, warm_start=False)"
      ]
     },
     "execution_count": 292,
     "metadata": {},
     "output_type": "execute_result"
    }
   ],
   "source": [
    "from sklearn.ensemble import GradientBoostingClassifier\n",
    "gbm = GradientBoostingClassifier(max_features=7, n_estimators=100, \n",
    "                                 learning_rate=0.05, random_state= 2015)\n",
    "gbm.fit(X_train, Y_train)"
   ]
  },
  {
   "cell_type": "code",
   "execution_count": 293,
   "metadata": {
    "collapsed": false
   },
   "outputs": [
    {
     "name": "stdout",
     "output_type": "stream",
     "text": [
      "0.971564155632\n",
      "0.967591965186\n"
     ]
    }
   ],
   "source": [
    "import sklearn.metrics\n",
    "print(sklearn.metrics.roc_auc_score(Y_train, gbm.predict_proba(X_train)[:,1]))\n",
    "print(sklearn.metrics.roc_auc_score(Y_test, gbm.predict_proba(X_test)[:,1]))"
   ]
  },
  {
   "cell_type": "code",
   "execution_count": 294,
   "metadata": {
    "collapsed": false
   },
   "outputs": [
    {
     "name": "stdout",
     "output_type": "stream",
     "text": [
      "Score:  0.92406221409\n",
      "---------Training Data Results---------\n",
      "Accuracy:  0.920765027322\n",
      "AUC:  0.972952291009\n",
      "Confusion Matrix: \n",
      "[[1878    0]\n",
      " [ 174  144]]\n",
      "Classification Report: \n",
      "             precision    recall  f1-score   support\n",
      "\n",
      "        0.0       0.92      1.00      0.96      1878\n",
      "        1.0       1.00      0.45      0.62       318\n",
      "\n",
      "avg / total       0.93      0.92      0.91      2196\n",
      "\n",
      "---------Testing Data Results---------\n",
      "Accuracy:  0.930747922438\n",
      "AUC:  0.968073813073\n",
      "Confusion Matrix: \n",
      "[[940   2]\n",
      " [ 73  68]]\n",
      "Classification Report: \n",
      "             precision    recall  f1-score   support\n",
      "\n",
      "        0.0       0.93      1.00      0.96       942\n",
      "        1.0       0.97      0.48      0.64       141\n",
      "\n",
      "avg / total       0.93      0.93      0.92      1083\n",
      "\n"
     ]
    },
    {
     "data": {
      "text/plain": [
       "GradientBoostingClassifier(criterion='friedman_mse', init=None,\n",
       "              learning_rate=0.05, loss='deviance', max_depth=3,\n",
       "              max_features=7, max_leaf_nodes=None,\n",
       "              min_impurity_split=1e-07, min_samples_leaf=1,\n",
       "              min_samples_split=2, min_weight_fraction_leaf=0.0,\n",
       "              n_estimators=100, presort='auto', random_state=2015,\n",
       "              subsample=1.0, verbose=0, warm_start=False)"
      ]
     },
     "execution_count": 294,
     "metadata": {},
     "output_type": "execute_result"
    }
   ],
   "source": [
    "modeleval(X_train, X_test, Y_train, Y_test,gbm)"
   ]
  },
  {
   "cell_type": "code",
   "execution_count": 295,
   "metadata": {
    "collapsed": false
   },
   "outputs": [
    {
     "data": {
      "image/png": "[encoded data removed]",
      "text/plain": [
       "<matplotlib.figure.Figure at 0x125da0908>"
      ]
     },
     "metadata": {},
     "output_type": "display_data"
    }
   ],
   "source": [
    "def plot_gbt_learning(gbt):\n",
    "    test_score = np.empty(len(gbt.estimators_))\n",
    "    train_score = np.empty(len(gbt.estimators_))\n",
    "    for i, pred in enumerate(gbt.staged_predict_proba(X_test)):\n",
    "         test_score[i] = sklearn.metrics.roc_auc_score(Y_test, pred[:,1])\n",
    "    for i, pred in enumerate(gbt.staged_predict_proba(X_train)):\n",
    "         train_score[i] = sklearn.metrics.roc_auc_score(Y_train, pred[:,1])\n",
    "    plt.figure(figsize=(8,6))\n",
    "    plt.plot(np.arange(gbt.n_estimators) + 1, test_score, label='Test') \n",
    "    plt.plot(np.arange(gbt.n_estimators) + 1, train_score, label='Train')\n",
    "plot_gbt_learning(gbm)"
   ]
  },
  {
   "cell_type": "code",
   "execution_count": 297,
   "metadata": {
    "collapsed": false
   },
   "outputs": [
    {
     "data": {
      "image/png": "[encoded data removed]",
      "text/plain": [
       "<matplotlib.figure.Figure at 0x15d7aa5c0>"
      ]
     },
     "metadata": {},
     "output_type": "display_data"
    }
   ],
   "source": [
    "feature_importance = gbm.feature_importances_ \n",
    "feature_importance = 100.0 * (feature_importance / feature_importance.max())\n",
    "sorted_idx = np.argsort(feature_importance)[-20:]\n",
    "pos = np.arange(sorted_idx.shape[0]) + .5\n",
    "plt.figure(figsize=(10, 10))\n",
    "#plt.subplot(1, 2, 2)\n",
    "plt.barh(pos, feature_importance[sorted_idx], align='center')\n",
    "plt.yticks(pos, X_train.columns[[sorted_idx]])\n",
    "plt.xlabel('Relative Importance')\n",
    "plt.title('Variable Importance')\n",
    "plt.show()"
   ]
  },
  {
   "cell_type": "markdown",
   "metadata": {},
   "source": [
    "3) Analysis"
   ]
  },
  {
   "cell_type": "markdown",
   "metadata": {},
   "source": [
    "Yes, we can accurately predict ad or no ad. Both and Random Forest and GBM Model were applied with varying feature importnace plots. For example, Ratio was the 10th most predictive feature for Random Forest, but was ranked 6 for GBM. \n",
    "Performance for both were both satisfactory with accuracy well above 90% for both models. \n",
    "\n",
    "Model Theory Discussion:\n",
    "Although both random forest and gradient boosting are ensemblers, random forest decorrelates decision trees, improving upon bagging, building various decision trees on bootstrapped training samples, but splitting internal nodes in a special way.\n",
    "Each time a split is considered within the construction of a decision tree, only a random subset of m of the overall p predictors are allowed to be candidates. At every split, a new subset of predictors is randomly selected.The random forest procedure forces the decision tree building process to use different predictors to split at different times. Should a good predictor be left out of consideration for some splits, it still has many chances to be considered in the construction of other splits. We can’t overfit by adding more trees! At each iteration, the classifier is being trained independently.\n",
    "For GBM, the boosting procedure works in a similar way, except that the decision trees are generated in a sequential manner: Each tree is generated using information from previously grown trees; the addition of a new tree improves upon the performance of the previous trees.The trees are now dependent upon one another. Gradient Boosting builds on weak classifiers, adding one at a time so that the next one is trained to improve the already trained ensemble."
   ]
  }
 ],
 "metadata": {
  "kernelspec": {
   "display_name": "Python 3",
   "language": "python",
   "name": "python3"
  },
  "language_info": {
   "codemirror_mode": {
    "name": "ipython",
    "version": 3
   },
   "file_extension": ".py",
   "mimetype": "text/x-python",
   "name": "python",
   "nbconvert_exporter": "python",
   "pygments_lexer": "ipython3",
   "version": "3.6.0"
  }
 },
 "nbformat": 4,
 "nbformat_minor": 2
}
