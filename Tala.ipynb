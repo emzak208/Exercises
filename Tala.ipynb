{
 "cells": [
  {
   "cell_type": "code",
   "execution_count": 1,
   "metadata": {
    "collapsed": true
   },
   "outputs": [],
   "source": [
    "import pandas as pd\n",
    "import numpy as np\n",
    "import missingno as msno\n",
    "from datetime import datetime\n",
    "from datetime import timedelta\n",
    "import seaborn as sns\n",
    "import matplotlib.pyplot as plt\n",
    "plt.style.use('ggplot')\n",
    "%matplotlib inline"
   ]
  },
  {
   "cell_type": "code",
   "execution_count": 2,
   "metadata": {
    "collapsed": false
   },
   "outputs": [
    {
     "name": "stdout",
     "output_type": "stream",
     "text": [
      "/Users/wandawang/Downloads/TalaDataScienceChallengeData\n"
     ]
    }
   ],
   "source": [
    "cd '/Users/wandawang/Downloads/TalaDataScienceChallengeData'"
   ]
  },
  {
   "cell_type": "code",
   "execution_count": 3,
   "metadata": {
    "collapsed": false
   },
   "outputs": [],
   "source": [
    "callLog = pd.read_csv('dataScienceChallenge_callLog.csv')\n",
    "repayment = pd.read_csv('dataScienceChallenge_repayment.csv', parse_dates=['signup_date','disbursement_date']) "
   ]
  },
  {
   "cell_type": "code",
   "execution_count": 4,
   "metadata": {
    "collapsed": true
   },
   "outputs": [],
   "source": [
    "#Feature Engineering"
   ]
  },
  {
   "cell_type": "code",
   "execution_count": 5,
   "metadata": {
    "collapsed": false
   },
   "outputs": [],
   "source": [
    "#Time \n",
    "callLog['local_timestamp'] = pd.to_datetime(callLog['local_timestamp'])\n",
    "callLog['wkD_week'] = callLog['local_timestamp'].dt.dayofweek\n",
    "callLog['wkNo_year'] = callLog['local_timestamp'].dt.week\n",
    "callLog['year'] = callLog['local_timestamp'].dt.year\n",
    "callLog['month'] = callLog['local_timestamp'].dt.month\n",
    "callLog['day'] = callLog['local_timestamp'].dt.day\n",
    "callLog['hour'] = callLog['local_timestamp'].dt.hour\n",
    "\n",
    "twilight = []\n",
    "morn = []\n",
    "after = []\n",
    "eve = []\n",
    "time_of_day = []\n",
    "for i in callLog['hour']:\n",
    "    if i < 6:\n",
    "        twilight.append(i)\n",
    "        time_of_day.append('twilight')\n",
    "    elif 6 <= i < 13:\n",
    "        morn.append(i)\n",
    "        time_of_day.append('morning')\n",
    "    elif 13 <= i < 17:\n",
    "        after.append(i)\n",
    "        time_of_day.append('afternoon')\n",
    "    elif 17 <= i < 25:\n",
    "        eve.append(i)\n",
    "        #print(i)\n",
    "        time_of_day.append('evening')\n",
    "        \n",
    "callLog['ToD'] = time_of_day"
   ]
  },
  {
   "cell_type": "code",
   "execution_count": 6,
   "metadata": {
    "collapsed": true
   },
   "outputs": [],
   "source": [
    "#Length of contact name\n",
    "l = []\n",
    "for i in callLog['contact_name_redacted']:\n",
    "    if type(i) == str:\n",
    "        l.append(len(str(i)))\n",
    "    else:\n",
    "        l.append(0)        \n",
    "callLog['len_contact_name'] = l \n",
    "\n",
    "#Area Code buckets\n",
    "area_code = []\n",
    "for i in callLog['phone_randomized']:\n",
    "    a = i[:3]\n",
    "    area_code.append(a)\n",
    "callLog['area_code'] = area_code\n",
    "\n",
    "ac = []\n",
    "for i in callLog['area_code']:\n",
    "    if '*' in i:\n",
    "        ac.append('other')\n",
    "    elif '#' in i:\n",
    "        ac.append('other')\n",
    "    elif int(i[0]) < 2:\n",
    "        ac.append(\"area_code_<200s\")\n",
    "    elif 2 <= int(i[0]) < 4:\n",
    "        ac.append(\"area_code_200s-400s\")        \n",
    "    elif 4 <= int(i[0]) < 6:\n",
    "        ac.append(\"area_code_400s-600s\")  \n",
    "    elif 6 <= int(i[0]) < 8:\n",
    "        ac.append(\"area_code_600s-800s\")\n",
    "    elif int(i[0]) >= 8:\n",
    "        ac.append(\"area_code_>800s\")    \n",
    "callLog['ac'] = ac"
   ]
  },
  {
   "cell_type": "code",
   "execution_count": 7,
   "metadata": {
    "collapsed": false
   },
   "outputs": [],
   "source": [
    "#Days between loan signup and disbursement dates\n",
    "\n",
    "time_difference = repayment['disbursement_date'] - repayment['signup_date']\n",
    "repayment['days_difference'] = time_difference.dt.days\n",
    "\n",
    "signup_month = []\n",
    "for i in repayment['signup_date']:\n",
    "    a = i.to_pydatetime().month\n",
    "    signup_month.append(a)\n",
    "repayment['signup_month'] = signup_month\n",
    "    \n",
    "signup_year = []\n",
    "for i in repayment['signup_date']:\n",
    "    a = i.to_pydatetime().year\n",
    "    signup_year.append(a)\n",
    "repayment['signup_yr'] = signup_year\n",
    "\n",
    "disburs_month = []\n",
    "for i in repayment['disbursement_date']:\n",
    "    a = i.to_pydatetime().month\n",
    "    disburs_month.append(a)\n",
    "repayment['disbursement_month'] = disburs_month"
   ]
  },
  {
   "cell_type": "code",
   "execution_count": 8,
   "metadata": {
    "collapsed": true
   },
   "outputs": [],
   "source": [
    "#join dataframes\n",
    "result = pd.merge(callLog,repayment,on='person_id_random',how='right')\n",
    "\n",
    "#Dummify categorical variables\n",
    "ac = pd.get_dummies(result['ac'], prefix = 'ac_')\n",
    "output = result.join(ac)\n",
    "\n",
    "ToD = pd.get_dummies(result['ToD'], prefix = 'time_of_day_')\n",
    "output = output.join(ToD)\n",
    "\n",
    "direction = pd.get_dummies(result['direction'], prefix = 'direction_')\n",
    "output = output.join(direction)"
   ]
  },
  {
   "cell_type": "code",
   "execution_count": 10,
   "metadata": {
    "collapsed": false
   },
   "outputs": [
    {
     "data": {
      "text/plain": [
       "Index(['person_id_random', 'phone_randomized', 'contact_name_redacted',\n",
       "       'direction', 'duration', 'local_timestamp', 'wkD_week', 'wkNo_year',\n",
       "       'year', 'month', 'day', 'hour', 'ToD', 'len_contact_name', 'area_code',\n",
       "       'ac', 'signup_date', 'disbursement_date', 'paid_first_loan',\n",
       "       'days_difference', 'signup_month', 'signup_yr', 'disbursement_month',\n",
       "       'ac__area_code_200s-400s', 'ac__area_code_400s-600s',\n",
       "       'ac__area_code_600s-800s', 'ac__area_code_<200s', 'ac__area_code_>800s',\n",
       "       'ac__other', 'time_of_day__afternoon', 'time_of_day__evening',\n",
       "       'time_of_day__morning', 'time_of_day__twilight', 'direction__incoming',\n",
       "       'direction__missed', 'direction__outgoing', 'direction__unknown'],\n",
       "      dtype='object')"
      ]
     },
     "execution_count": 10,
     "metadata": {},
     "output_type": "execute_result"
    }
   ],
   "source": [
    "output.columns"
   ]
  },
  {
   "cell_type": "code",
   "execution_count": 11,
   "metadata": {
    "collapsed": false
   },
   "outputs": [
    {
     "data": {
      "image/png": "[encoded data removed]",
      "text/plain": [
       "<matplotlib.figure.Figure at 0x1289c0278>"
      ]
     },
     "metadata": {},
     "output_type": "display_data"
    }
   ],
   "source": [
    "#Visualize features\n",
    "\n",
    "fig = plt.figure(figsize=(16, 15))\n",
    "\n",
    "ax1 = plt.subplot(\"321\")\n",
    "ax1.set_title(\"Paid% by wkNo_year\")\n",
    "var1 = output.groupby(['wkNo_year','paid_first_loan']).agg({'person_id_random': 'count'})\n",
    "var1_pct = var1.groupby(level=0).apply(lambda x: 100*x/float(x.sum()))\n",
    "var1_pct.unstack().plot(kind='bar',stacked=True, ax = ax1)\n",
    "\n",
    "ax2 = plt.subplot(\"322\")\n",
    "ax2.set_title(\"Paid% by area_code\")\n",
    "var2 = output.groupby(['area_code','paid_first_loan']).agg({'person_id_random': 'count'})\n",
    "var2_pct = var2.groupby(level=0).apply(lambda x: 100*x/float(x.sum()))\n",
    "var2_pct.unstack().plot(kind='bar',stacked=True, ax = ax2)\n",
    "\n",
    "ax3 = plt.subplot(\"323\")\n",
    "ax3.set_title(\"Paid% by len_contact_name\")\n",
    "var3 = output.groupby(['len_contact_name','paid_first_loan']).agg({'person_id_random': 'count'})\n",
    "var3_pct = var3.groupby(level=0).apply(lambda x: 100*x/float(x.sum()))\n",
    "var3_pct.unstack().plot(kind='bar',stacked=True, ax = ax3)\n",
    "\n",
    "ax4 = plt.subplot(\"324\")\n",
    "ax4.set_title(\"Paid% by duration\")\n",
    "var4 = output.groupby(['duration','paid_first_loan']).agg({'person_id_random': 'count'})\n",
    "var4_pct = var4.groupby(level=0).apply(lambda x: 100*x/float(x.sum()))\n",
    "var4_pct.unstack().plot(kind='bar',stacked=True, ax = ax4)\n",
    "\n",
    "ax5 = plt.subplot(\"325\")\n",
    "ax5.set_title(\"Paid% by days_difference\")\n",
    "var5 = output.groupby([\"days_difference\",'paid_first_loan']).agg({'person_id_random': 'count'})\n",
    "var5_pct = var5.groupby(level=0).apply(lambda x: 100*x/float(x.sum()))\n",
    "var5_pct.unstack().plot(kind='bar',stacked=True, ax = ax5)\n",
    "\n",
    "fig.tight_layout()\n",
    "\n",
    "plt.show()"
   ]
  },
  {
   "cell_type": "code",
   "execution_count": 29,
   "metadata": {
    "collapsed": false
   },
   "outputs": [],
   "source": [
    "#Cleanup, drop variables we don't need\n",
    "res = output.copy()\n",
    "res = res.drop(['phone_randomized','contact_name_redacted','direction','disbursement_date', 'ac', \n",
    "                'local_timestamp','ToD', 'area_code'], axis = 1)\n",
    "\n",
    "#Replace nulls with 0\n",
    "res = res.fillna(0)\n",
    "\n",
    "#train and test set\n",
    "train_final = res[(res.signup_date < '2015-10-30')]\n",
    "preds_use= res[(res.signup_date >= '2015-10-30')]\n",
    "\n",
    "#Cleanup, drop variables we don't need\n",
    "preds_use = preds_use.drop(['signup_date'], axis = 1)\n",
    "train_final = train_final.drop(['signup_date'], axis = 1)"
   ]
  },
  {
   "cell_type": "code",
   "execution_count": 30,
   "metadata": {
    "collapsed": false
   },
   "outputs": [],
   "source": [
    "target_preds_use = preds_use['paid_first_loan']\n",
    "target_preds_use = [np.int(x) for x in target_preds_use]\n",
    "\n",
    "target_train_final = train_final['paid_first_loan']\n",
    "target_train_final = [np.int(x) for x in target_train_final]\n",
    "\n",
    "person_id = preds_use['person_id_random']"
   ]
  },
  {
   "cell_type": "code",
   "execution_count": 31,
   "metadata": {
    "collapsed": false
   },
   "outputs": [
    {
     "name": "stdout",
     "output_type": "stream",
     "text": [
      "resample unbalanced data finished\n"
     ]
    }
   ],
   "source": [
    "#deal with unbalanced data\n",
    "from imblearn.over_sampling import RandomOverSampler\n",
    "ro = RandomOverSampler()\n",
    "X_resampled_full, y_resampled_full = ro.fit_sample(train_final, target_train_final)\n",
    "X_resampled_full = pd.DataFrame(X_resampled_full,columns = train_final.columns)\n",
    "\n",
    "print (\"resample unbalanced data finished\")"
   ]
  },
  {
   "cell_type": "code",
   "execution_count": 32,
   "metadata": {
    "collapsed": true
   },
   "outputs": [],
   "source": [
    "X_resampled_full.paid_first_loan.value_counts()\n",
    "X_resampled_full.drop(['person_id_random', 'paid_first_loan'],axis=1, inplace=True)"
   ]
  },
  {
   "cell_type": "code",
   "execution_count": 33,
   "metadata": {
    "collapsed": true
   },
   "outputs": [],
   "source": [
    "#Cleanup, drop variables we don't need\n",
    "preds_use.drop(['person_id_random', 'paid_first_loan'],axis=1, inplace=True)\n",
    "train_final.drop(['person_id_random', 'paid_first_loan'],axis=1, inplace=True)"
   ]
  },
  {
   "cell_type": "code",
   "execution_count": 34,
   "metadata": {
    "collapsed": false
   },
   "outputs": [
    {
     "data": {
      "text/plain": [
       "Index(['duration', 'wkD_week', 'wkNo_year', 'year', 'month', 'day', 'hour',\n",
       "       'len_contact_name', 'days_difference', 'signup_month', 'signup_yr',\n",
       "       'disbursement_month', 'ac__area_code_200s-400s',\n",
       "       'ac__area_code_400s-600s', 'ac__area_code_600s-800s',\n",
       "       'ac__area_code_<200s', 'ac__area_code_>800s', 'ac__other',\n",
       "       'time_of_day__afternoon', 'time_of_day__evening',\n",
       "       'time_of_day__morning', 'time_of_day__twilight', 'direction__incoming',\n",
       "       'direction__missed', 'direction__outgoing', 'direction__unknown'],\n",
       "      dtype='object')"
      ]
     },
     "execution_count": 34,
     "metadata": {},
     "output_type": "execute_result"
    }
   ],
   "source": [
    "train_final.columns"
   ]
  },
  {
   "cell_type": "code",
   "execution_count": null,
   "metadata": {
    "collapsed": false
   },
   "outputs": [],
   "source": [
    "#feature importance\n",
    "\n",
    "from sklearn.ensemble import RandomForestClassifier\n",
    "import seaborn as sns\n",
    "randomforest = RandomForestClassifier(random_state=24, n_estimators=100)\n",
    "randomforest.fit(train_final, target_train_final)\n",
    "# display the relative importance of each attribute\n",
    "            \n",
    "top_features = np.array(sorted(zip(map(lambda x: round(x, 4), randomforest.feature_importances_), train_final.columns),\n",
    "                               reverse=True)[:15])\n",
    "\n",
    "top_f_name = list(top_features[:,1])\n",
    "full_data_reduced = train_final[top_f_name]\n",
    "top_f_score = top_features[:,0]\n",
    "\n",
    "#plot top n features\n",
    "%matplotlib inline\n",
    "plt.figure()\n",
    "plt.title(\"Feature Importance\")\n",
    "importance = [np.float(x) for x in top_features[:,0]]\n",
    "sns.barplot(y=full_data_reduced.columns, x=importance)"
   ]
  },
  {
   "cell_type": "code",
   "execution_count": null,
   "metadata": {
    "collapsed": false
   },
   "outputs": [],
   "source": [
    "#Random forest without imbalance data oversampling\n",
    "from sklearn import grid_search\n",
    "from sklearn.ensemble import RandomForestClassifier\n",
    "from sklearn.metrics import make_scorer, f1_score, accuracy_score,mean_squared_error\n",
    "\n",
    "randomforest = RandomForestClassifier(random_state=24,n_estimators=100,oob_score=True)\n",
    "tree_score = make_scorer(f1_score, greater_is_better=True)\n",
    "\n",
    "parameters = {'max_depth':[x for x in range(3,10)]}\n",
    "\n",
    "clf_rf_noros = grid_search.GridSearchCV(estimator=randomforest, param_grid=parameters, cv=5, scoring=tree_score)\n",
    "\n",
    "clf_rf_noros.fit(train_final,target_train_final)\n",
    "\n",
    "print (\"Random Forest best parameter\", clf_rf_noros.best_estimator_)\n",
    "print (\"Random Forest best score\", clf_rf_noros.best_score_)  \n",
    "print (\"Random Forest Accuracy:\", accuracy_score(target_train_final,clf_rf_noros.predict(train_final)))  \n",
    "print ('finish Random Forest Train')"
   ]
  },
  {
   "cell_type": "code",
   "execution_count": null,
   "metadata": {
    "collapsed": false
   },
   "outputs": [],
   "source": [
    "#Model with Oversampling\n",
    "# Decision Tree\n",
    "from sklearn.tree import DecisionTreeClassifier\n",
    "from sklearn import grid_search\n",
    "from sklearn import cross_validation\n",
    "from sklearn.metrics import make_scorer, mean_squared_error, f1_score, accuracy_score\n",
    "from imblearn.over_sampling import RandomOverSampler\n",
    "\n",
    "ros = RandomOverSampler()\n",
    "\n",
    "# USE MSE AS SCORE FUNCTION\n",
    "tree_score = make_scorer(f1_score, greater_is_better=True)\n",
    "\n",
    "score_record = pd.DataFrame(columns=['max_depth', 'min_samples_split', 'f1_score', 'accuracy_score'])\n",
    "\n",
    "kf = cross_validation.KFold(len(train_final), n_folds=5)\n",
    "\n",
    "train_final.index = range(len(train_final))\n",
    "target_train_final = pd.DataFrame(target_train_final,columns = ['paid_first_loan])\n",
    "target_train_final.index = range(len(target_train_final))\n",
    "\n",
    "for max_depth in range(9, 10):\n",
    "    print (\"running on max_depth:=\", max_depth)\n",
    "    for min_samples_split in range(120,130,20):\n",
    "        avg_f1_score = 0.0\n",
    "        avg_accu_score = 0.0 \n",
    "        for train, test in kf:\n",
    "            X_train, X_test, Y_train, Y_test = train_final.iloc[train], train_final.iloc[test], target_train_final.iloc[train], target_train_final.iloc[test]\n",
    "            X_resampled, y_resampled = ros.fit_sample(X_train, Y_train)           \n",
    "            clf = DecisionTreeClassifier(random_state=24, \n",
    "                                         max_depth = max_depth,\n",
    "                                         min_samples_split = min_samples_split\n",
    "                                        )\n",
    "            clf.fit(X_resampled, y_resampled)\n",
    "            avg_f1_score += f1_score(Y_test,clf.predict(X_test))\n",
    "            avg_accu_score += accuracy_score(Y_test,clf.predict(X_test))   \n",
    "\n",
    "        print (\"F1 Score is :=\", avg_f1_score/5.0, \"; Accuracy Score is :=\", avg_accu_score/5.0) \n",
    "\n",
    "        score_record = score_record.append(pd.DataFrame([[max_depth,min_samples_split,avg_f1_score/5.0,avg_accu_score/5.0]],\n",
    "                                                        columns=['max_depth', 'min_samples_split', 'f1_score', 'accuracy_score']))\n",
    "\n",
    "score_record[score_record.f1_score == score_record.f1_score.max()]\n",
    "best_estimation = score_record[score_record.f1_score == score_record.f1_score.max()]\n",
    "\n",
    "print (\"best max_depth\", best_estimation.max_depth[0])\n",
    "print (\"best min_samples_split\", best_estimation.min_samples_split[0])\n",
    "print (\"best f1 score\", best_estimation.f1_score[0])\n",
    "print (\"best accuracy_score\", best_estimation.accuracy_score[0])\n",
    "\n",
    "\n",
    "print('finished modeling')"
   ]
  },
  {
   "cell_type": "code",
   "execution_count": null,
   "metadata": {
    "collapsed": false
   },
   "outputs": [],
   "source": [
    "clf_dt_full_best = DecisionTreeClassifier(max_depth=9, min_samples_split=120, random_state=24)\n",
    "clf_dt_full_best.fit(X_resampled_full,y_resampled_full)\n",
    "\n",
    "print (\"Decision Tree Full Grow F1 score on oversampled data\", f1_score(y_resampled_full,clf_dt_full_best.predict(X_resampled_full)))\n",
    "print (\"Decision Tree Full Grow accuracy score on oversampled data\",accuracy_score(y_resampled_full,clf_dt_full_best.predict(X_resampled_full)))\n",
    "print (\"Decision Tree Full Grow F1 score on original data\",f1_score(target_train_final,clf_dt_full_best.predict(train_final)))\n",
    "print (\"Decision Tree Full Growaccuracy score onoriginaldata\",accuracy_score(target_train_final,\n",
    "                                              clf_dt_full_best.predict(train_final)))"
   ]
  },
  {
   "cell_type": "code",
   "execution_count": null,
   "metadata": {
    "collapsed": true
   },
   "outputs": [],
   "source": [
    "clf_dt_best = DecisionTreeClassifier(class_weight=None, criterion='gini', max_depth=3,\n",
    "                                          max_features=None, max_leaf_nodes=None, min_samples_leaf=1,\n",
    "                                          min_samples_split=400, min_weight_fraction_leaf=0.0,\n",
    "                                          presort=False, random_state=24, splitter='best')\n",
    "\n",
    "clf_dt_best.fit(X_resampled_full,y_resampled_full)\n",
    "\n",
    "print (\"Decision Tree Simplified F1 score on undersampled data\", f1_score(y_resampled_full,clf_dt_best.predict(X_resampled_full)))\n",
    "print (\"Decision Tree Simplified accuracy score on undersampled data\",accuracy_score(y_resampled_full,clf_dt_best.predict(X_resampled_full))\n",
    "print (\"Decision Tree Simplified F1 score on original data\",f1_score(target_train_final,clf_dt_best.predict(train_final)))\n",
    "print (\"Decision Tree Simplified accuracy score on original data\",accuracy_score(target_train_final,clf_dt_best.predict(train_final))\n",
    "                                                                                                                                          \n",
    "                                                                               )"
   ]
  },
  {
   "cell_type": "code",
   "execution_count": null,
   "metadata": {
    "collapsed": true
   },
   "outputs": [],
   "source": [
    "#RANDOM FOREST\n",
    "from sklearn.ensemble import RandomForestClassifier\n",
    "from sklearn import grid_search\n",
    "from sklearn import cross_validation\n",
    "from sklearn.metrics import make_scorer, mean_squared_error, f1_score, accuracy_score\n",
    "from imblearn.over_sampling import RandomOverSampler\n",
    "\n",
    "ros = RandomOverSampler()\n",
    "\n",
    "randomforest = RandomForestClassifier(random_state=24, n_estimators=100)\n",
    "\n",
    "# USE MSE AS SCORE FUNCTION\n",
    "tree_score = make_scorer(f1_score, greater_is_better=True)\n",
    "\n",
    "score_record = pd.DataFrame(columns=['max_depth', 'f1_score', 'accuracy_score'])\n",
    "\n",
    "kf = cross_validation.KFold(len(train_final), n_folds=5)\n",
    "\n",
    "train_final.index = range(len(train_final))\n",
    "target_train_final = pd.DataFrame(target_train_final,columns = ['paid_first_loan'])\n",
    "target_train_final.index = range(len(target_train_final))\n",
    "\n",
    "for max_depth in range(3,31):\n",
    "    print (\"running on max_depth:=\", max_depth)\n",
    "    avg_f1_score = 0.0\n",
    "    avg_accu_score = 0.0  \n",
    "    for train, test in kf:\n",
    "        X_train, X_test, Y_train, Y_test = train_final.iloc[train], train_final.iloc[test], target_train_final.iloc[train], target_train_final.iloc[test]\n",
    "        X_resampled, y_resampled = ros.fit_sample(X_train, Y_train)           \n",
    "        clf = RandomForestClassifier(random_state=24, \n",
    "                                     n_estimators=100, \n",
    "                                     oob_score=True,\n",
    "                                     max_depth = max_depth\n",
    "                                    )\n",
    "        clf.fit(X_resampled, y_resampled)\n",
    "        avg_f1_score += f1_score(Y_test,clf.predict(X_test))\n",
    "        avg_accu_score += accuracy_score(Y_test,clf.predict(X_test))   \n",
    "\n",
    "    print (\"F1 Score is :=\", avg_f1_score/5.0, \"; Accuracy Score is :=\", avg_accu_score/5.0)\n",
    "    score_record = score_record.append(pd.DataFrame([[max_depth,avg_f1_score/5.0,avg_accu_score/5.0]],\n",
    "                                                    columns=['max_depth', 'f1_score', 'accuracy_score']))\n",
    "\n",
    "score_record[score_record.f1_score == score_record.f1_score.max()]\n",
    "best_estimation = score_record[score_record.f1_score == score_record.f1_score.max()]\n",
    "\n",
    "print (\"best max_depth\", best_estimation.max_depth[0])\n",
    "print (\"best f1 score\", best_estimation.f1_score[0])\n",
    "print (\"best accuracy_score\", best_estimation.accuracy_score[0])\n",
    "\n",
    "print('finished modeling')"
   ]
  },
  {
   "cell_type": "code",
   "execution_count": null,
   "metadata": {
    "collapsed": true
   },
   "outputs": [],
   "source": [
    "from sklearn import grid_search\n",
    "from sklearn.ensemble import RandomForestClassifier\n",
    "from sklearn.metrics import make_scorer, f1_score, accuracy_score,mean_squared_error\n",
    "\n",
    "clf_rf_best = RandomForestClassifier(max_depth=23, oob_score=True, random_state=24,n_estimators=100)\n",
    "clf_rf_best.fit(X_resampled_full,y_resampled_full)\n",
    "\n",
    "print (\"RandomForestClassifier F1 score on oversampled data\", f1_score(y_resampled_full,clf_rf_best.predict(X_resampled_full)))\n",
    "print (\"RandomForestClassifier accuracy score on oversampled data\",accuracy_score(y_resampled_full,clf_rf_best.predict(X_resampled_full)))\n",
    "print (\"RandomForestClassifier F1 score on original data\",f1_score(target_train_final,clf_rf_best.predict(train_final)))\n",
    "print (\"RandomForestClassifier accuracy score on original data\",accuracy_score(target_train_final,clf_rf_best.predict(train_final)))"
   ]
  },
  {
   "cell_type": "code",
   "execution_count": null,
   "metadata": {
    "collapsed": true
   },
   "outputs": [],
   "source": [
    "#ROC Curve on Oversampled Data\n",
    "%matplotlib inline\n",
    "import matplotlib.pyplot as plt\n",
    "from sklearn.metrics import roc_curve, auc\n",
    "\n",
    "y_score1 = clf_dt_full_best.predict_proba(X_resampled_full)#ROC for Full growed Decision Tree\n",
    "y_score2 = clf_dt_best.predict_proba(X_resampled_full)#ROC for Simplified Decision Tree\n",
    "y_score3 = clf_rf_best.predict_proba(X_resampled_full)#ROC for Random Frorest\n",
    "\n",
    "# Compute ROC curve and ROC area for each class\n",
    "fpr1, tpr1, thresholds1 = roc_curve(y_resampled_full, y_score1[:, 1])\n",
    "fpr2, tpr2, thresholds2 = roc_curve(y_resampled_full, y_score2[:, 1])\n",
    "fpr3, tpr3, thresholds3 = roc_curve(y_resampled_full, y_score3[:, 1])\n",
    "\n",
    "# Compute micro-average ROC curve and ROC area\n",
    "roc_auc1 = auc(fpr1, tpr1)\n",
    "roc_auc2 = auc(fpr2, tpr2)\n",
    "roc_auc3 = auc(fpr3, tpr3)\n",
    "\n",
    "plt.plot(fpr1, tpr1, lw=2, color='blue',\n",
    "         label='ROC (area = %0.2f) Full Grow DT' %  roc_auc1)\n",
    "plt.plot(fpr2, tpr2, lw=2, color='black',\n",
    "         label='ROC (area = %0.2f) Simplified DT' %  roc_auc2)    \n",
    "plt.plot(fpr3, tpr3, lw=2, color='red',\n",
    "         label='ROC (area = %0.2f) Random Forest' %  roc_auc3)    \n",
    "    \n",
    "    \n",
    "plt.plot([0, 1], [0, 1], linestyle='--', lw=1, color='k',\n",
    "         label='Luck')\n",
    "    \n",
    "    \n",
    "plt.xlim([-0.05, 1.05])\n",
    "plt.ylim([-0.05, 1.05])\n",
    "plt.xlabel('False Positive Rate')\n",
    "plt.ylabel('True Positive Rate')\n",
    "plt.title('Receiver operating characteristic On Oversampled Data')\n",
    "plt.legend(loc=\"lower right\")\n",
    "plt.show()"
   ]
  },
  {
   "cell_type": "code",
   "execution_count": null,
   "metadata": {
    "collapsed": true
   },
   "outputs": [],
   "source": [
    "#ROC Curve on Original Data\n",
    "%%matplotlibmatplotli  inline\n",
    "import matplotlib.pyplot as plt\n",
    "from sklearn.metrics import roc_curve, auc\n",
    "\n",
    "y_score1 = clf_dt_full_best.predict_proba(train_final)#ROC for Full growed Decision Tree\n",
    "y_score2 = clf_dt_best.predict_proba(train_final)#ROC for Simplified Decision Tree\n",
    "y_score3 = clf_rf_best.predict_proba(train_final)#ROC for Random Frorest\n",
    "\n",
    "# Compute ROC curve and ROC area for each class\n",
    "fpr1, tpr1, thresholds1 = roc_curve(target_train_final, y_score1[:, 1])\n",
    "fpr2, tpr2, thresholds2 = roc_curve(target_train_final, y_score2[:, 1])\n",
    "fpr3, tpr3, thresholds3 = roc_curve(target_train_final, y_score3[:, 1])\n",
    "\n",
    "# Compute micro-average ROC curve and ROC area\n",
    "roc_auc1 = auc(fpr1, tpr1)\n",
    "roc_auc2 = auc(fpr2, tpr2)\n",
    "roc_auc3 = auc(fpr3, tpr3)\n",
    "\n",
    "plt.plot(fpr1, tpr1, lw=2, color='blue',\n",
    "         label='ROC (area = %0.2f) Full Grow DT' %  roc_auc1)\n",
    "plt.plot(fpr2, tpr2, lw=2, color='black',\n",
    "         label='ROC (area = %0.2f) Simplified DT' %  roc_auc2)    \n",
    "plt.plot(fpr3, tpr3, lw=2, color='red',\n",
    "         label='ROC (area = %0.2f) Random Forest' %  roc_auc3)    \n",
    "    \n",
    "    \n",
    "plt.plot([0, 1], [0, 1], linestyle='--', lw=1, color='k',\n",
    "         label='Luck')\n",
    "    \n",
    "    \n",
    "plt.xlim([-0.05, 1.05])\n",
    "plt.ylim([-0.05, 1.05])\n",
    "plt.xlabel('False Positive Rate')\n",
    "plt.ylabel('True Positive Rate')\n",
    "plt.title('Receiver operating characteristic On Original Data')\n",
    "plt.legend(loc=\"lower right\")\n",
    "plt.show()"
   ]
  },
  {
   "cell_type": "code",
   "execution_count": null,
   "metadata": {
    "collapsed": true
   },
   "outputs": [],
   "source": [
    "rf_roc = pd.DataFrame(fpr3,columns=['FPR'])\n",
    "rf_roc['TPR'] = tpr3\n",
    "rf_roc['Threshold'] = thresholds3\n",
    "rf_roc['distance'] = rf_roc['FPR']**2 + (1.0- rf_roc['TPR'])**2\n",
    "min_value = rf_roc['distance'].min()\n",
    "print (\"best cut off point\")\n",
    "display(rf_roc[rf_roc.distance == min_value])"
   ]
  },
  {
   "cell_type": "code",
   "execution_count": null,
   "metadata": {
    "collapsed": true
   },
   "outputs": [],
   "source": [
    "# Prediction\n",
    "predicted_value = pd.DataFrame(clf_rf_best.predict_proba(preds_use)[:,1], columns=['loan_risk'])\n",
    "person_id.index = range(len(person_id))\n",
    "predicted_value_pd = pd.concat([person_id, predicted_value], axis=1)"
   ]
  },
  {
   "cell_type": "code",
   "execution_count": null,
   "metadata": {
    "collapsed": true
   },
   "outputs": [],
   "source": [
    "print \"Predict as full repayment\",clf_rf_best.predict(preds_use).sum()\n",
    "print \"#Merchant in Data to predict\",len(clf_rf_best.predict(preds_use))\n",
    "print \"Model recognize as full repayment\",clf_rf_best.predict(train_final).sum()\n",
    "print \"#Person_ID in Data in train\",len(clf_rf_best.predict(train_final))"
   ]
  },
  {
   "cell_type": "code",
   "execution_count": null,
   "metadata": {
    "collapsed": true
   },
   "outputs": [],
   "source": [
    "predicted_value_sorted = predicted_value_pd.sort_values(by = ['loan_risk'],ascending=False)\n",
    "top_100 = predicted_value_sorted.head(100)\n",
    "\n",
    "predicted_value_pd.to_csv('../output/full_predications.csv', index=False)\n",
    "top_100.to_csv('../output/top100_risk.csv', index=False)"
   ]
  }
 ],
 "metadata": {
  "kernelspec": {
   "display_name": "Python 3",
   "language": "python",
   "name": "python3"
  },
  "language_info": {
   "codemirror_mode": {
    "name": "ipython",
    "version": 3
   },
   "file_extension": ".py",
   "mimetype": "text/x-python",
   "name": "python",
   "nbconvert_exporter": "python",
   "pygments_lexer": "ipython3",
   "version": "3.6.0"
  }
 },
 "nbformat": 4,
 "nbformat_minor": 2
}
