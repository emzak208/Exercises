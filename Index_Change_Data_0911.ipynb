{
 "cells": [
  {
   "cell_type": "code",
   "execution_count": 2,
   "metadata": {},
   "outputs": [],
   "source": [
    "#%cd C:\\\\Users\\\\UXJX\\\\Desktop"
   ]
  },
  {
   "cell_type": "code",
   "execution_count": 3,
   "metadata": {},
   "outputs": [
    {
     "data": {
      "text/plain": [
       "'/Users/axjx/Downloads'"
      ]
     },
     "execution_count": 3,
     "metadata": {},
     "output_type": "execute_result"
    }
   ],
   "source": [
    "pwd"
   ]
  },
  {
   "cell_type": "code",
   "execution_count": 4,
   "metadata": {
    "collapsed": true
   },
   "outputs": [],
   "source": [
    "import os\n",
    "import numpy as np\n",
    "import pandas as pd\n",
    "import matplotlib\n",
    "%matplotlib inline\n",
    "import matplotlib.pyplot as plt\n",
    "import matplotlib.dates as mdates\n",
    "from __future__ import division\n",
    "import sys \n",
    "import seaborn as sns\n",
    "import datetime\n",
    "import dateutil.parser"
   ]
  },
  {
   "cell_type": "code",
   "execution_count": 5,
   "metadata": {
    "collapsed": true
   },
   "outputs": [],
   "source": [
    "index_change_data= pd.read_excel('IndexChangeData.xlsx')"
   ]
  },
  {
   "cell_type": "code",
   "execution_count": 6,
   "metadata": {
    "collapsed": true
   },
   "outputs": [],
   "source": [
    "CBOE = pd.read_excel('IndexChangeData.xlsx', sheetname = 0)\n",
    "REG = pd.read_excel('IndexChangeData.xlsx', sheetname = 1)\n",
    "SNPS = pd.read_excel('IndexChangeData.xlsx', sheetname = 2)\n",
    "IT = pd.read_excel('IndexChangeData.xlsx', sheetname = 3)\n",
    "CARS = pd.read_excel('IndexChangeData.xlsx', sheetname = 4)"
   ]
  },
  {
   "cell_type": "code",
   "execution_count": 7,
   "metadata": {
    "collapsed": true
   },
   "outputs": [],
   "source": [
    "#Data Viz Tool:\n",
    "#filter on Name (e.g. CBOE, REG, etc.)\n",
    "#filter on Date range based on days before, announce date, effective date, days after\n",
    "#filter on Price\n",
    "#filter on Shares (x100?)\n",
    "#filter on Price x Shares"
   ]
  },
  {
   "cell_type": "code",
   "execution_count": 8,
   "metadata": {
    "collapsed": true
   },
   "outputs": [],
   "source": [
    "#Individual datasets vs. One to filter based on Name "
   ]
  },
  {
   "cell_type": "code",
   "execution_count": 9,
   "metadata": {},
   "outputs": [
    {
     "data": {
      "text/html": [
       "<div>\n",
       "<style>\n",
       "    .dataframe thead tr:only-child th {\n",
       "        text-align: right;\n",
       "    }\n",
       "\n",
       "    .dataframe thead th {\n",
       "        text-align: left;\n",
       "    }\n",
       "\n",
       "    .dataframe tbody tr th {\n",
       "        vertical-align: top;\n",
       "    }\n",
       "</style>\n",
       "<table border=\"1\" class=\"dataframe\">\n",
       "  <thead>\n",
       "    <tr style=\"text-align: right;\">\n",
       "      <th></th>\n",
       "      <th>CBOE US Equity</th>\n",
       "      <th>Unnamed: 1</th>\n",
       "      <th>Unnamed: 2</th>\n",
       "      <th>Unnamed: 3</th>\n",
       "      <th>Unnamed: 4</th>\n",
       "    </tr>\n",
       "  </thead>\n",
       "  <tbody>\n",
       "    <tr>\n",
       "      <th>0</th>\n",
       "      <td>2017-02-23 09:30:00</td>\n",
       "      <td>BEST_BID</td>\n",
       "      <td>76.51</td>\n",
       "      <td>6</td>\n",
       "      <td>F</td>\n",
       "    </tr>\n",
       "    <tr>\n",
       "      <th>1</th>\n",
       "      <td>2017-02-23 09:30:00</td>\n",
       "      <td>BEST_BID</td>\n",
       "      <td>76.52</td>\n",
       "      <td>1</td>\n",
       "      <td>K</td>\n",
       "    </tr>\n",
       "  </tbody>\n",
       "</table>\n",
       "</div>"
      ],
      "text/plain": [
       "       CBOE US Equity Unnamed: 1  Unnamed: 2  Unnamed: 3 Unnamed: 4\n",
       "0 2017-02-23 09:30:00   BEST_BID       76.51           6          F\n",
       "1 2017-02-23 09:30:00   BEST_BID       76.52           1          K"
      ]
     },
     "execution_count": 9,
     "metadata": {},
     "output_type": "execute_result"
    }
   ],
   "source": [
    "CBOE.head(2)"
   ]
  },
  {
   "cell_type": "code",
   "execution_count": 10,
   "metadata": {},
   "outputs": [
    {
     "data": {
      "text/html": [
       "<div>\n",
       "<style>\n",
       "    .dataframe thead tr:only-child th {\n",
       "        text-align: right;\n",
       "    }\n",
       "\n",
       "    .dataframe thead th {\n",
       "        text-align: left;\n",
       "    }\n",
       "\n",
       "    .dataframe tbody tr th {\n",
       "        vertical-align: top;\n",
       "    }\n",
       "</style>\n",
       "<table border=\"1\" class=\"dataframe\">\n",
       "  <thead>\n",
       "    <tr style=\"text-align: right;\">\n",
       "      <th></th>\n",
       "      <th>REG US Equity</th>\n",
       "      <th>Unnamed: 1</th>\n",
       "      <th>Unnamed: 2</th>\n",
       "      <th>Unnamed: 3</th>\n",
       "      <th>Unnamed: 4</th>\n",
       "    </tr>\n",
       "  </thead>\n",
       "  <tbody>\n",
       "    <tr>\n",
       "      <th>0</th>\n",
       "      <td>#N/A Requesting Data...</td>\n",
       "      <td>BEST_ASK</td>\n",
       "      <td>70.9</td>\n",
       "      <td>2</td>\n",
       "      <td>Z</td>\n",
       "    </tr>\n",
       "    <tr>\n",
       "      <th>1</th>\n",
       "      <td>2017-02-24 09:04:00</td>\n",
       "      <td>BEST_ASK</td>\n",
       "      <td>70.9</td>\n",
       "      <td>1</td>\n",
       "      <td>X</td>\n",
       "    </tr>\n",
       "  </tbody>\n",
       "</table>\n",
       "</div>"
      ],
      "text/plain": [
       "             REG US Equity Unnamed: 1  Unnamed: 2  Unnamed: 3 Unnamed: 4\n",
       "0  #N/A Requesting Data...   BEST_ASK        70.9           2          Z\n",
       "1      2017-02-24 09:04:00   BEST_ASK        70.9           1          X"
      ]
     },
     "execution_count": 10,
     "metadata": {},
     "output_type": "execute_result"
    }
   ],
   "source": [
    "REG.head(2)"
   ]
  },
  {
   "cell_type": "code",
   "execution_count": 11,
   "metadata": {},
   "outputs": [
    {
     "data": {
      "text/html": [
       "<div>\n",
       "<style>\n",
       "    .dataframe thead tr:only-child th {\n",
       "        text-align: right;\n",
       "    }\n",
       "\n",
       "    .dataframe thead th {\n",
       "        text-align: left;\n",
       "    }\n",
       "\n",
       "    .dataframe tbody tr th {\n",
       "        vertical-align: top;\n",
       "    }\n",
       "</style>\n",
       "<table border=\"1\" class=\"dataframe\">\n",
       "  <thead>\n",
       "    <tr style=\"text-align: right;\">\n",
       "      <th></th>\n",
       "      <th>SNPS US Equity</th>\n",
       "      <th>Unnamed: 1</th>\n",
       "      <th>Unnamed: 2</th>\n",
       "      <th>Unnamed: 3</th>\n",
       "      <th>Unnamed: 4</th>\n",
       "    </tr>\n",
       "  </thead>\n",
       "  <tbody>\n",
       "    <tr>\n",
       "      <th>0</th>\n",
       "      <td>2017-03-13 09:02:15</td>\n",
       "      <td>BEST_ASK</td>\n",
       "      <td>72.77</td>\n",
       "      <td>1</td>\n",
       "      <td>K</td>\n",
       "    </tr>\n",
       "    <tr>\n",
       "      <th>1</th>\n",
       "      <td>2017-03-13 09:05:44</td>\n",
       "      <td>BEST_ASK</td>\n",
       "      <td>74.87</td>\n",
       "      <td>2</td>\n",
       "      <td>K</td>\n",
       "    </tr>\n",
       "  </tbody>\n",
       "</table>\n",
       "</div>"
      ],
      "text/plain": [
       "       SNPS US Equity Unnamed: 1  Unnamed: 2  Unnamed: 3 Unnamed: 4\n",
       "0 2017-03-13 09:02:15   BEST_ASK       72.77           1          K\n",
       "1 2017-03-13 09:05:44   BEST_ASK       74.87           2          K"
      ]
     },
     "execution_count": 11,
     "metadata": {},
     "output_type": "execute_result"
    }
   ],
   "source": [
    "SNPS.head(2)"
   ]
  },
  {
   "cell_type": "code",
   "execution_count": 12,
   "metadata": {},
   "outputs": [
    {
     "data": {
      "text/html": [
       "<div>\n",
       "<style>\n",
       "    .dataframe thead tr:only-child th {\n",
       "        text-align: right;\n",
       "    }\n",
       "\n",
       "    .dataframe thead th {\n",
       "        text-align: left;\n",
       "    }\n",
       "\n",
       "    .dataframe tbody tr th {\n",
       "        vertical-align: top;\n",
       "    }\n",
       "</style>\n",
       "<table border=\"1\" class=\"dataframe\">\n",
       "  <thead>\n",
       "    <tr style=\"text-align: right;\">\n",
       "      <th></th>\n",
       "      <th>IT US Equity</th>\n",
       "      <th>Unnamed: 1</th>\n",
       "      <th>Unnamed: 2</th>\n",
       "      <th>Unnamed: 3</th>\n",
       "      <th>Unnamed: 4</th>\n",
       "    </tr>\n",
       "  </thead>\n",
       "  <tbody>\n",
       "    <tr>\n",
       "      <th>0</th>\n",
       "      <td>2017-03-31 09:20:00</td>\n",
       "      <td>BEST_ASK</td>\n",
       "      <td>160.38</td>\n",
       "      <td>1</td>\n",
       "      <td>T</td>\n",
       "    </tr>\n",
       "    <tr>\n",
       "      <th>1</th>\n",
       "      <td>2017-03-31 09:20:40</td>\n",
       "      <td>BEST_BID</td>\n",
       "      <td>108.27</td>\n",
       "      <td>1</td>\n",
       "      <td>P</td>\n",
       "    </tr>\n",
       "  </tbody>\n",
       "</table>\n",
       "</div>"
      ],
      "text/plain": [
       "         IT US Equity Unnamed: 1  Unnamed: 2  Unnamed: 3 Unnamed: 4\n",
       "0 2017-03-31 09:20:00   BEST_ASK      160.38           1          T\n",
       "1 2017-03-31 09:20:40   BEST_BID      108.27           1          P"
      ]
     },
     "execution_count": 12,
     "metadata": {},
     "output_type": "execute_result"
    }
   ],
   "source": [
    "IT.head(2)"
   ]
  },
  {
   "cell_type": "code",
   "execution_count": 13,
   "metadata": {},
   "outputs": [
    {
     "data": {
      "text/html": [
       "<div>\n",
       "<style>\n",
       "    .dataframe thead tr:only-child th {\n",
       "        text-align: right;\n",
       "    }\n",
       "\n",
       "    .dataframe thead th {\n",
       "        text-align: left;\n",
       "    }\n",
       "\n",
       "    .dataframe tbody tr th {\n",
       "        vertical-align: top;\n",
       "    }\n",
       "</style>\n",
       "<table border=\"1\" class=\"dataframe\">\n",
       "  <thead>\n",
       "    <tr style=\"text-align: right;\">\n",
       "      <th></th>\n",
       "      <th>CARS US Equity</th>\n",
       "      <th>Unnamed: 1</th>\n",
       "      <th>Unnamed: 2</th>\n",
       "      <th>Unnamed: 3</th>\n",
       "      <th>Unnamed: 4</th>\n",
       "    </tr>\n",
       "  </thead>\n",
       "  <tbody>\n",
       "    <tr>\n",
       "      <th>0</th>\n",
       "      <td>2017-05-31 09:29:38</td>\n",
       "      <td>BEST_BID</td>\n",
       "      <td>21.62</td>\n",
       "      <td>2</td>\n",
       "      <td>J</td>\n",
       "    </tr>\n",
       "    <tr>\n",
       "      <th>1</th>\n",
       "      <td>2017-05-31 09:29:38</td>\n",
       "      <td>BEST_ASK</td>\n",
       "      <td>30.55</td>\n",
       "      <td>2</td>\n",
       "      <td>J</td>\n",
       "    </tr>\n",
       "  </tbody>\n",
       "</table>\n",
       "</div>"
      ],
      "text/plain": [
       "       CARS US Equity Unnamed: 1  Unnamed: 2  Unnamed: 3 Unnamed: 4\n",
       "0 2017-05-31 09:29:38   BEST_BID       21.62           2          J\n",
       "1 2017-05-31 09:29:38   BEST_ASK       30.55           2          J"
      ]
     },
     "execution_count": 13,
     "metadata": {},
     "output_type": "execute_result"
    }
   ],
   "source": [
    "CARS.head(2)"
   ]
  },
  {
   "cell_type": "code",
   "execution_count": 14,
   "metadata": {
    "collapsed": true
   },
   "outputs": [],
   "source": [
    "#Excel Sheets: CBOE, REG, SNPS, IT, CARS\n",
    "#dates: AdhocDanaKenny \n",
    "\n",
    "#CBOE\n",
    "#REG ... announce_date: 3/1 .. efftv_dt: 3/2/\n",
    "    #...                2/27...efftv_dt: 3/2/\n",
    "    \n",
    "#SNPS ...announce_date: 3/14 ..efftv_dt: 3/16\n",
    "#IT .....               3/31             4/5\n",
    "#CARS ...               6/1              6/2\n"
   ]
  },
  {
   "cell_type": "code",
   "execution_count": 15,
   "metadata": {},
   "outputs": [
    {
     "data": {
      "text/plain": [
       "(400105, 5)"
      ]
     },
     "execution_count": 15,
     "metadata": {},
     "output_type": "execute_result"
    }
   ],
   "source": [
    "index_change_data.shape"
   ]
  },
  {
   "cell_type": "code",
   "execution_count": 16,
   "metadata": {
    "collapsed": true
   },
   "outputs": [],
   "source": [
    "index_change_data = index_change_data.rename(index=str, columns={\"CBOE US Equity\": \"Date\",\n",
    "                                    \"Unnamed: 1\": \"Trade\",\n",
    "                                      \"Unnamed: 2\": \"Price\",\n",
    "                                      \"Unnamed: 3\": \"Shares\",\n",
    "                                      \"Unnamed: 4\": \"Exchange\"})"
   ]
  },
  {
   "cell_type": "code",
   "execution_count": 17,
   "metadata": {
    "collapsed": true
   },
   "outputs": [],
   "source": [
    "icd_trades = index_change_data.loc[index_change_data['Trade'] == 'TRADE']"
   ]
  },
  {
   "cell_type": "code",
   "execution_count": 18,
   "metadata": {
    "collapsed": true
   },
   "outputs": [],
   "source": [
    "icd_trades = icd_trades.reset_index()\n",
    "icd_trades = icd_trades[['Date', 'Trade', 'Price', 'Shares']]"
   ]
  },
  {
   "cell_type": "code",
   "execution_count": 19,
   "metadata": {},
   "outputs": [
    {
     "data": {
      "text/plain": [
       "(103546, 4)"
      ]
     },
     "execution_count": 19,
     "metadata": {},
     "output_type": "execute_result"
    }
   ],
   "source": [
    "icd_trades.shape"
   ]
  },
  {
   "cell_type": "code",
   "execution_count": 20,
   "metadata": {
    "collapsed": true
   },
   "outputs": [],
   "source": [
    "index_CBOE = pd.read_excel('CBOE.xlsx')"
   ]
  },
  {
   "cell_type": "code",
   "execution_count": 21,
   "metadata": {
    "collapsed": true
   },
   "outputs": [],
   "source": [
    "# tckr_sym_cd\tbloomberg_ticker\n",
    "# CBOE\tCBOE UW Equity\n",
    "\n",
    "index_CBOE.head(3)\n",
    "index_CBOE = index_CBOE.rename(index=str, columns={\"CBOE US Equity\": \"Date\",\n",
    "                                    \"Unnamed: 1\": \"Trade\",\n",
    "                                      \"Unnamed: 2\": \"Price\",\n",
    "                                      \"Unnamed: 3\": \"Shares\",\n",
    "                                      \"Unnamed: 4\": \"Exchange\"})"
   ]
  },
  {
   "cell_type": "code",
   "execution_count": 22,
   "metadata": {},
   "outputs": [
    {
     "data": {
      "text/plain": [
       "Date        datetime64[ns]\n",
       "Trade               object\n",
       "Price              float64\n",
       "Shares               int64\n",
       "Exchange            object\n",
       "dtype: object"
      ]
     },
     "execution_count": 22,
     "metadata": {},
     "output_type": "execute_result"
    }
   ],
   "source": [
    "index_CBOE.dtypes"
   ]
  },
  {
   "cell_type": "code",
   "execution_count": 23,
   "metadata": {
    "collapsed": true
   },
   "outputs": [],
   "source": [
    "# import bqplot"
   ]
  },
  {
   "cell_type": "code",
   "execution_count": 24,
   "metadata": {
    "collapsed": true
   },
   "outputs": [],
   "source": [
    "# from bqplot import pyplot as plt\n",
    "# import numpy as np\n",
    "\n",
    "# plt.figure(1, title='Line Chart')\n",
    "# np.random.seed(0)\n",
    "# n = 200\n",
    "# x = np.linspace(0.0, 10.0, n)\n",
    "# y = np.cumsum(np.random.randn(n))\n",
    "# plt.plot(x, y)\n",
    "# plt.show()"
   ]
  },
  {
   "cell_type": "code",
   "execution_count": 25,
   "metadata": {
    "collapsed": true
   },
   "outputs": [],
   "source": [
    "# plt.show()#Widget Javascript not detected.  It may not be installed or enabled properly."
   ]
  },
  {
   "cell_type": "code",
   "execution_count": 26,
   "metadata": {},
   "outputs": [
    {
     "data": {
      "text/html": [
       "<div>\n",
       "<style>\n",
       "    .dataframe thead tr:only-child th {\n",
       "        text-align: right;\n",
       "    }\n",
       "\n",
       "    .dataframe thead th {\n",
       "        text-align: left;\n",
       "    }\n",
       "\n",
       "    .dataframe tbody tr th {\n",
       "        vertical-align: top;\n",
       "    }\n",
       "</style>\n",
       "<table border=\"1\" class=\"dataframe\">\n",
       "  <thead>\n",
       "    <tr style=\"text-align: right;\">\n",
       "      <th></th>\n",
       "      <th>Date</th>\n",
       "      <th>Trade</th>\n",
       "      <th>Price</th>\n",
       "      <th>Shares</th>\n",
       "      <th>Exchange</th>\n",
       "    </tr>\n",
       "  </thead>\n",
       "  <tbody>\n",
       "    <tr>\n",
       "      <th>0</th>\n",
       "      <td>2017-02-23 09:30:00</td>\n",
       "      <td>TRADE</td>\n",
       "      <td>80.570</td>\n",
       "      <td>2532</td>\n",
       "      <td>Q</td>\n",
       "    </tr>\n",
       "    <tr>\n",
       "      <th>1</th>\n",
       "      <td>2017-02-23 09:30:01</td>\n",
       "      <td>TRADE</td>\n",
       "      <td>80.570</td>\n",
       "      <td>100</td>\n",
       "      <td>Q</td>\n",
       "    </tr>\n",
       "    <tr>\n",
       "      <th>2</th>\n",
       "      <td>2017-02-23 09:30:07</td>\n",
       "      <td>TRADE</td>\n",
       "      <td>80.180</td>\n",
       "      <td>100</td>\n",
       "      <td>F</td>\n",
       "    </tr>\n",
       "    <tr>\n",
       "      <th>3</th>\n",
       "      <td>2017-02-23 09:30:53</td>\n",
       "      <td>TRADE</td>\n",
       "      <td>80.405</td>\n",
       "      <td>548</td>\n",
       "      <td>D</td>\n",
       "    </tr>\n",
       "    <tr>\n",
       "      <th>4</th>\n",
       "      <td>2017-02-23 09:32:35</td>\n",
       "      <td>TRADE</td>\n",
       "      <td>80.330</td>\n",
       "      <td>100</td>\n",
       "      <td>Z</td>\n",
       "    </tr>\n",
       "    <tr>\n",
       "      <th>5</th>\n",
       "      <td>2017-02-23 09:32:36</td>\n",
       "      <td>TRADE</td>\n",
       "      <td>80.400</td>\n",
       "      <td>100</td>\n",
       "      <td>J</td>\n",
       "    </tr>\n",
       "    <tr>\n",
       "      <th>6</th>\n",
       "      <td>2017-02-23 09:32:36</td>\n",
       "      <td>TRADE</td>\n",
       "      <td>80.490</td>\n",
       "      <td>100</td>\n",
       "      <td>D</td>\n",
       "    </tr>\n",
       "    <tr>\n",
       "      <th>7</th>\n",
       "      <td>2017-02-23 09:32:42</td>\n",
       "      <td>TRADE</td>\n",
       "      <td>80.490</td>\n",
       "      <td>100</td>\n",
       "      <td>Q</td>\n",
       "    </tr>\n",
       "    <tr>\n",
       "      <th>8</th>\n",
       "      <td>2017-02-23 09:32:42</td>\n",
       "      <td>TRADE</td>\n",
       "      <td>80.500</td>\n",
       "      <td>100</td>\n",
       "      <td>Q</td>\n",
       "    </tr>\n",
       "    <tr>\n",
       "      <th>9</th>\n",
       "      <td>2017-02-23 09:32:42</td>\n",
       "      <td>TRADE</td>\n",
       "      <td>80.500</td>\n",
       "      <td>100</td>\n",
       "      <td>Q</td>\n",
       "    </tr>\n",
       "  </tbody>\n",
       "</table>\n",
       "</div>"
      ],
      "text/plain": [
       "                 Date  Trade   Price  Shares Exchange\n",
       "0 2017-02-23 09:30:00  TRADE  80.570    2532        Q\n",
       "1 2017-02-23 09:30:01  TRADE  80.570     100        Q\n",
       "2 2017-02-23 09:30:07  TRADE  80.180     100        F\n",
       "3 2017-02-23 09:30:53  TRADE  80.405     548        D\n",
       "4 2017-02-23 09:32:35  TRADE  80.330     100        Z\n",
       "5 2017-02-23 09:32:36  TRADE  80.400     100        J\n",
       "6 2017-02-23 09:32:36  TRADE  80.490     100        D\n",
       "7 2017-02-23 09:32:42  TRADE  80.490     100        Q\n",
       "8 2017-02-23 09:32:42  TRADE  80.500     100        Q\n",
       "9 2017-02-23 09:32:42  TRADE  80.500     100        Q"
      ]
     },
     "execution_count": 26,
     "metadata": {},
     "output_type": "execute_result"
    }
   ],
   "source": [
    "#time series\n",
    "index_CBOE.head(10)\n",
    "\n",
    "#parse dates? date interval for x-axis \n",
    "\n",
    "#Filter by Stock? Shiny?"
   ]
  },
  {
   "cell_type": "code",
   "execution_count": 35,
   "metadata": {},
   "outputs": [
    {
     "name": "stdout",
     "output_type": "stream",
     "text": [
      "2017-02-23 09:30:01 <class 'pandas._libs.tslib.Timestamp'>\n",
      "2017-02-23 09:30:07 <class 'pandas._libs.tslib.Timestamp'>\n",
      "2017-02-23 09:30:53 <class 'pandas._libs.tslib.Timestamp'>\n",
      "2017-02-23 09:32:35 <class 'pandas._libs.tslib.Timestamp'>\n",
      "2017-02-23 09:32:36 <class 'pandas._libs.tslib.Timestamp'>\n",
      "2017-02-23 09:32:36 <class 'pandas._libs.tslib.Timestamp'>\n",
      "2017-02-23 09:32:42 <class 'pandas._libs.tslib.Timestamp'>\n",
      "2017-02-23 09:32:42 <class 'pandas._libs.tslib.Timestamp'>\n",
      "2017-02-23 09:32:42 <class 'pandas._libs.tslib.Timestamp'>\n",
      "2017-02-23 09:32:42 <class 'pandas._libs.tslib.Timestamp'>\n",
      "2017-02-23 09:32:42 <class 'pandas._libs.tslib.Timestamp'>\n",
      "2017-02-23 09:32:42 <class 'pandas._libs.tslib.Timestamp'>\n",
      "2017-02-23 09:32:43 <class 'pandas._libs.tslib.Timestamp'>\n",
      "2017-02-23 09:32:43 <class 'pandas._libs.tslib.Timestamp'>\n",
      "2017-02-23 09:32:43 <class 'pandas._libs.tslib.Timestamp'>\n",
      "2017-02-23 09:32:43 <class 'pandas._libs.tslib.Timestamp'>\n",
      "2017-02-23 09:32:43 <class 'pandas._libs.tslib.Timestamp'>\n",
      "2017-02-23 09:32:43 <class 'pandas._libs.tslib.Timestamp'>\n",
      "2017-02-23 09:32:43 <class 'pandas._libs.tslib.Timestamp'>\n",
      "2017-02-23 09:32:47 <class 'pandas._libs.tslib.Timestamp'>\n",
      "2017-02-23 09:33:04 <class 'pandas._libs.tslib.Timestamp'>\n",
      "2017-02-23 09:34:17 <class 'pandas._libs.tslib.Timestamp'>\n",
      "2017-02-23 09:34:39 <class 'pandas._libs.tslib.Timestamp'>\n",
      "2017-02-23 09:34:39 <class 'pandas._libs.tslib.Timestamp'>\n",
      "2017-02-23 09:34:51 <class 'pandas._libs.tslib.Timestamp'>\n",
      "2017-02-23 09:34:51 <class 'pandas._libs.tslib.Timestamp'>\n",
      "2017-02-23 09:35:12 <class 'pandas._libs.tslib.Timestamp'>\n",
      "2017-02-23 09:35:19 <class 'pandas._libs.tslib.Timestamp'>\n",
      "2017-02-23 09:35:19 <class 'pandas._libs.tslib.Timestamp'>\n"
     ]
    }
   ],
   "source": [
    "for i in index_CBOE.Date[1:30]:\n",
    "    print(i, type(i))"
   ]
  },
  {
   "cell_type": "code",
   "execution_count": 27,
   "metadata": {
    "collapsed": true
   },
   "outputs": [],
   "source": [
    "df = index_CBOE[['Date', 'Price']]"
   ]
  },
  {
   "cell_type": "code",
   "execution_count": 28,
   "metadata": {},
   "outputs": [
    {
     "data": {
      "text/plain": [
       "<matplotlib.text.Text at 0x1287dac88>"
      ]
     },
     "execution_count": 28,
     "metadata": {},
     "output_type": "execute_result"
    },
    {
     "data": {
      "image/png": "[encoded data removed]",
      "text/plain": [
       "<matplotlib.figure.Figure at 0x136a919e8>"
      ]
     },
     "metadata": {},
     "output_type": "display_data"
    }
   ],
   "source": [
    "df.plot(color='g', figsize=(15,2)).set_title('')"
   ]
  },
  {
   "cell_type": "code",
   "execution_count": 29,
   "metadata": {},
   "outputs": [
    {
     "data": {
      "text/html": [
       "<div>\n",
       "<style>\n",
       "    .dataframe thead tr:only-child th {\n",
       "        text-align: right;\n",
       "    }\n",
       "\n",
       "    .dataframe thead th {\n",
       "        text-align: left;\n",
       "    }\n",
       "\n",
       "    .dataframe tbody tr th {\n",
       "        vertical-align: top;\n",
       "    }\n",
       "</style>\n",
       "<table border=\"1\" class=\"dataframe\">\n",
       "  <thead>\n",
       "    <tr style=\"text-align: right;\">\n",
       "      <th></th>\n",
       "      <th>Date</th>\n",
       "      <th>Price</th>\n",
       "    </tr>\n",
       "  </thead>\n",
       "  <tbody>\n",
       "    <tr>\n",
       "      <th>0</th>\n",
       "      <td>2017-02-23 09:30:00</td>\n",
       "      <td>80.570</td>\n",
       "    </tr>\n",
       "    <tr>\n",
       "      <th>1</th>\n",
       "      <td>2017-02-23 09:30:01</td>\n",
       "      <td>80.570</td>\n",
       "    </tr>\n",
       "    <tr>\n",
       "      <th>2</th>\n",
       "      <td>2017-02-23 09:30:07</td>\n",
       "      <td>80.180</td>\n",
       "    </tr>\n",
       "    <tr>\n",
       "      <th>3</th>\n",
       "      <td>2017-02-23 09:30:53</td>\n",
       "      <td>80.405</td>\n",
       "    </tr>\n",
       "    <tr>\n",
       "      <th>4</th>\n",
       "      <td>2017-02-23 09:32:35</td>\n",
       "      <td>80.330</td>\n",
       "    </tr>\n",
       "    <tr>\n",
       "      <th>5</th>\n",
       "      <td>2017-02-23 09:32:36</td>\n",
       "      <td>80.400</td>\n",
       "    </tr>\n",
       "    <tr>\n",
       "      <th>6</th>\n",
       "      <td>2017-02-23 09:32:36</td>\n",
       "      <td>80.490</td>\n",
       "    </tr>\n",
       "    <tr>\n",
       "      <th>7</th>\n",
       "      <td>2017-02-23 09:32:42</td>\n",
       "      <td>80.490</td>\n",
       "    </tr>\n",
       "    <tr>\n",
       "      <th>8</th>\n",
       "      <td>2017-02-23 09:32:42</td>\n",
       "      <td>80.500</td>\n",
       "    </tr>\n",
       "    <tr>\n",
       "      <th>9</th>\n",
       "      <td>2017-02-23 09:32:42</td>\n",
       "      <td>80.500</td>\n",
       "    </tr>\n",
       "    <tr>\n",
       "      <th>10</th>\n",
       "      <td>2017-02-23 09:32:42</td>\n",
       "      <td>80.520</td>\n",
       "    </tr>\n",
       "    <tr>\n",
       "      <th>11</th>\n",
       "      <td>2017-02-23 09:32:42</td>\n",
       "      <td>80.530</td>\n",
       "    </tr>\n",
       "    <tr>\n",
       "      <th>12</th>\n",
       "      <td>2017-02-23 09:32:42</td>\n",
       "      <td>80.530</td>\n",
       "    </tr>\n",
       "    <tr>\n",
       "      <th>13</th>\n",
       "      <td>2017-02-23 09:32:43</td>\n",
       "      <td>80.540</td>\n",
       "    </tr>\n",
       "    <tr>\n",
       "      <th>14</th>\n",
       "      <td>2017-02-23 09:32:43</td>\n",
       "      <td>80.540</td>\n",
       "    </tr>\n",
       "    <tr>\n",
       "      <th>15</th>\n",
       "      <td>2017-02-23 09:32:43</td>\n",
       "      <td>80.540</td>\n",
       "    </tr>\n",
       "    <tr>\n",
       "      <th>16</th>\n",
       "      <td>2017-02-23 09:32:43</td>\n",
       "      <td>80.540</td>\n",
       "    </tr>\n",
       "    <tr>\n",
       "      <th>17</th>\n",
       "      <td>2017-02-23 09:32:43</td>\n",
       "      <td>80.570</td>\n",
       "    </tr>\n",
       "    <tr>\n",
       "      <th>18</th>\n",
       "      <td>2017-02-23 09:32:43</td>\n",
       "      <td>80.540</td>\n",
       "    </tr>\n",
       "    <tr>\n",
       "      <th>19</th>\n",
       "      <td>2017-02-23 09:32:43</td>\n",
       "      <td>80.540</td>\n",
       "    </tr>\n",
       "    <tr>\n",
       "      <th>20</th>\n",
       "      <td>2017-02-23 09:32:47</td>\n",
       "      <td>80.740</td>\n",
       "    </tr>\n",
       "    <tr>\n",
       "      <th>21</th>\n",
       "      <td>2017-02-23 09:33:04</td>\n",
       "      <td>80.640</td>\n",
       "    </tr>\n",
       "    <tr>\n",
       "      <th>22</th>\n",
       "      <td>2017-02-23 09:34:17</td>\n",
       "      <td>80.743</td>\n",
       "    </tr>\n",
       "    <tr>\n",
       "      <th>23</th>\n",
       "      <td>2017-02-23 09:34:39</td>\n",
       "      <td>80.760</td>\n",
       "    </tr>\n",
       "    <tr>\n",
       "      <th>24</th>\n",
       "      <td>2017-02-23 09:34:39</td>\n",
       "      <td>80.770</td>\n",
       "    </tr>\n",
       "    <tr>\n",
       "      <th>25</th>\n",
       "      <td>2017-02-23 09:34:51</td>\n",
       "      <td>80.770</td>\n",
       "    </tr>\n",
       "    <tr>\n",
       "      <th>26</th>\n",
       "      <td>2017-02-23 09:34:51</td>\n",
       "      <td>80.780</td>\n",
       "    </tr>\n",
       "    <tr>\n",
       "      <th>27</th>\n",
       "      <td>2017-02-23 09:35:12</td>\n",
       "      <td>80.825</td>\n",
       "    </tr>\n",
       "    <tr>\n",
       "      <th>28</th>\n",
       "      <td>2017-02-23 09:35:19</td>\n",
       "      <td>80.790</td>\n",
       "    </tr>\n",
       "    <tr>\n",
       "      <th>29</th>\n",
       "      <td>2017-02-23 09:35:19</td>\n",
       "      <td>80.770</td>\n",
       "    </tr>\n",
       "    <tr>\n",
       "      <th>...</th>\n",
       "      <td>...</td>\n",
       "      <td>...</td>\n",
       "    </tr>\n",
       "    <tr>\n",
       "      <th>103516</th>\n",
       "      <td>2017-03-07 15:59:51</td>\n",
       "      <td>77.930</td>\n",
       "    </tr>\n",
       "    <tr>\n",
       "      <th>103517</th>\n",
       "      <td>2017-03-07 15:59:52</td>\n",
       "      <td>77.920</td>\n",
       "    </tr>\n",
       "    <tr>\n",
       "      <th>103518</th>\n",
       "      <td>2017-03-07 15:59:53</td>\n",
       "      <td>77.920</td>\n",
       "    </tr>\n",
       "    <tr>\n",
       "      <th>103519</th>\n",
       "      <td>2017-03-07 15:59:53</td>\n",
       "      <td>77.920</td>\n",
       "    </tr>\n",
       "    <tr>\n",
       "      <th>103520</th>\n",
       "      <td>2017-03-07 15:59:53</td>\n",
       "      <td>77.920</td>\n",
       "    </tr>\n",
       "    <tr>\n",
       "      <th>103521</th>\n",
       "      <td>2017-03-07 15:59:54</td>\n",
       "      <td>77.940</td>\n",
       "    </tr>\n",
       "    <tr>\n",
       "      <th>103522</th>\n",
       "      <td>2017-03-07 15:59:54</td>\n",
       "      <td>77.930</td>\n",
       "    </tr>\n",
       "    <tr>\n",
       "      <th>103523</th>\n",
       "      <td>2017-03-07 15:59:54</td>\n",
       "      <td>77.940</td>\n",
       "    </tr>\n",
       "    <tr>\n",
       "      <th>103524</th>\n",
       "      <td>2017-03-07 15:59:54</td>\n",
       "      <td>77.940</td>\n",
       "    </tr>\n",
       "    <tr>\n",
       "      <th>103525</th>\n",
       "      <td>2017-03-07 15:59:54</td>\n",
       "      <td>77.950</td>\n",
       "    </tr>\n",
       "    <tr>\n",
       "      <th>103526</th>\n",
       "      <td>2017-03-07 15:59:54</td>\n",
       "      <td>77.950</td>\n",
       "    </tr>\n",
       "    <tr>\n",
       "      <th>103527</th>\n",
       "      <td>2017-03-07 15:59:55</td>\n",
       "      <td>77.940</td>\n",
       "    </tr>\n",
       "    <tr>\n",
       "      <th>103528</th>\n",
       "      <td>2017-03-07 15:59:56</td>\n",
       "      <td>77.980</td>\n",
       "    </tr>\n",
       "    <tr>\n",
       "      <th>103529</th>\n",
       "      <td>2017-03-07 15:59:57</td>\n",
       "      <td>77.950</td>\n",
       "    </tr>\n",
       "    <tr>\n",
       "      <th>103530</th>\n",
       "      <td>2017-03-07 15:59:58</td>\n",
       "      <td>77.960</td>\n",
       "    </tr>\n",
       "    <tr>\n",
       "      <th>103531</th>\n",
       "      <td>2017-03-07 15:59:58</td>\n",
       "      <td>77.960</td>\n",
       "    </tr>\n",
       "    <tr>\n",
       "      <th>103532</th>\n",
       "      <td>2017-03-07 15:59:58</td>\n",
       "      <td>77.960</td>\n",
       "    </tr>\n",
       "    <tr>\n",
       "      <th>103533</th>\n",
       "      <td>2017-03-07 15:59:58</td>\n",
       "      <td>77.960</td>\n",
       "    </tr>\n",
       "    <tr>\n",
       "      <th>103534</th>\n",
       "      <td>2017-03-07 15:59:59</td>\n",
       "      <td>77.950</td>\n",
       "    </tr>\n",
       "    <tr>\n",
       "      <th>103535</th>\n",
       "      <td>2017-03-07 15:59:59</td>\n",
       "      <td>77.950</td>\n",
       "    </tr>\n",
       "    <tr>\n",
       "      <th>103536</th>\n",
       "      <td>2017-03-07 15:59:59</td>\n",
       "      <td>77.950</td>\n",
       "    </tr>\n",
       "    <tr>\n",
       "      <th>103537</th>\n",
       "      <td>2017-03-07 15:59:59</td>\n",
       "      <td>77.950</td>\n",
       "    </tr>\n",
       "    <tr>\n",
       "      <th>103538</th>\n",
       "      <td>2017-03-07 15:59:59</td>\n",
       "      <td>77.960</td>\n",
       "    </tr>\n",
       "    <tr>\n",
       "      <th>103539</th>\n",
       "      <td>2017-03-07 15:59:59</td>\n",
       "      <td>77.960</td>\n",
       "    </tr>\n",
       "    <tr>\n",
       "      <th>103540</th>\n",
       "      <td>2017-03-07 15:59:59</td>\n",
       "      <td>77.960</td>\n",
       "    </tr>\n",
       "    <tr>\n",
       "      <th>103541</th>\n",
       "      <td>2017-03-07 15:59:59</td>\n",
       "      <td>77.950</td>\n",
       "    </tr>\n",
       "    <tr>\n",
       "      <th>103542</th>\n",
       "      <td>2017-03-07 15:59:59</td>\n",
       "      <td>77.960</td>\n",
       "    </tr>\n",
       "    <tr>\n",
       "      <th>103543</th>\n",
       "      <td>2017-03-07 15:59:59</td>\n",
       "      <td>77.950</td>\n",
       "    </tr>\n",
       "    <tr>\n",
       "      <th>103544</th>\n",
       "      <td>2017-03-07 15:59:59</td>\n",
       "      <td>77.950</td>\n",
       "    </tr>\n",
       "    <tr>\n",
       "      <th>103545</th>\n",
       "      <td>2017-03-07 16:00:00</td>\n",
       "      <td>77.970</td>\n",
       "    </tr>\n",
       "  </tbody>\n",
       "</table>\n",
       "<p>103546 rows × 2 columns</p>\n",
       "</div>"
      ],
      "text/plain": [
       "                      Date   Price\n",
       "0      2017-02-23 09:30:00  80.570\n",
       "1      2017-02-23 09:30:01  80.570\n",
       "2      2017-02-23 09:30:07  80.180\n",
       "3      2017-02-23 09:30:53  80.405\n",
       "4      2017-02-23 09:32:35  80.330\n",
       "5      2017-02-23 09:32:36  80.400\n",
       "6      2017-02-23 09:32:36  80.490\n",
       "7      2017-02-23 09:32:42  80.490\n",
       "8      2017-02-23 09:32:42  80.500\n",
       "9      2017-02-23 09:32:42  80.500\n",
       "10     2017-02-23 09:32:42  80.520\n",
       "11     2017-02-23 09:32:42  80.530\n",
       "12     2017-02-23 09:32:42  80.530\n",
       "13     2017-02-23 09:32:43  80.540\n",
       "14     2017-02-23 09:32:43  80.540\n",
       "15     2017-02-23 09:32:43  80.540\n",
       "16     2017-02-23 09:32:43  80.540\n",
       "17     2017-02-23 09:32:43  80.570\n",
       "18     2017-02-23 09:32:43  80.540\n",
       "19     2017-02-23 09:32:43  80.540\n",
       "20     2017-02-23 09:32:47  80.740\n",
       "21     2017-02-23 09:33:04  80.640\n",
       "22     2017-02-23 09:34:17  80.743\n",
       "23     2017-02-23 09:34:39  80.760\n",
       "24     2017-02-23 09:34:39  80.770\n",
       "25     2017-02-23 09:34:51  80.770\n",
       "26     2017-02-23 09:34:51  80.780\n",
       "27     2017-02-23 09:35:12  80.825\n",
       "28     2017-02-23 09:35:19  80.790\n",
       "29     2017-02-23 09:35:19  80.770\n",
       "...                    ...     ...\n",
       "103516 2017-03-07 15:59:51  77.930\n",
       "103517 2017-03-07 15:59:52  77.920\n",
       "103518 2017-03-07 15:59:53  77.920\n",
       "103519 2017-03-07 15:59:53  77.920\n",
       "103520 2017-03-07 15:59:53  77.920\n",
       "103521 2017-03-07 15:59:54  77.940\n",
       "103522 2017-03-07 15:59:54  77.930\n",
       "103523 2017-03-07 15:59:54  77.940\n",
       "103524 2017-03-07 15:59:54  77.940\n",
       "103525 2017-03-07 15:59:54  77.950\n",
       "103526 2017-03-07 15:59:54  77.950\n",
       "103527 2017-03-07 15:59:55  77.940\n",
       "103528 2017-03-07 15:59:56  77.980\n",
       "103529 2017-03-07 15:59:57  77.950\n",
       "103530 2017-03-07 15:59:58  77.960\n",
       "103531 2017-03-07 15:59:58  77.960\n",
       "103532 2017-03-07 15:59:58  77.960\n",
       "103533 2017-03-07 15:59:58  77.960\n",
       "103534 2017-03-07 15:59:59  77.950\n",
       "103535 2017-03-07 15:59:59  77.950\n",
       "103536 2017-03-07 15:59:59  77.950\n",
       "103537 2017-03-07 15:59:59  77.950\n",
       "103538 2017-03-07 15:59:59  77.960\n",
       "103539 2017-03-07 15:59:59  77.960\n",
       "103540 2017-03-07 15:59:59  77.960\n",
       "103541 2017-03-07 15:59:59  77.950\n",
       "103542 2017-03-07 15:59:59  77.960\n",
       "103543 2017-03-07 15:59:59  77.950\n",
       "103544 2017-03-07 15:59:59  77.950\n",
       "103545 2017-03-07 16:00:00  77.970\n",
       "\n",
       "[103546 rows x 2 columns]"
      ]
     },
     "execution_count": 29,
     "metadata": {},
     "output_type": "execute_result"
    }
   ],
   "source": [
    "df"
   ]
  },
  {
   "cell_type": "code",
   "execution_count": null,
   "metadata": {
    "collapsed": true
   },
   "outputs": [],
   "source": []
  },
  {
   "cell_type": "code",
   "execution_count": 30,
   "metadata": {},
   "outputs": [
    {
     "ename": "NameError",
     "evalue": "name 'dff' is not defined",
     "output_type": "error",
     "traceback": [
      "\u001b[0;31m---------------------------------------------------------------------------\u001b[0m",
      "\u001b[0;31mNameError\u001b[0m                                 Traceback (most recent call last)",
      "\u001b[0;32m<ipython-input-30-280811640bb9>\u001b[0m in \u001b[0;36m<module>\u001b[0;34m()\u001b[0m\n\u001b[0;32m----> 1\u001b[0;31m \u001b[0mdff\u001b[0m\u001b[0;34m.\u001b[0m\u001b[0mdescribe\u001b[0m\u001b[0;34m(\u001b[0m\u001b[0;34m)\u001b[0m\u001b[0;34m\u001b[0m\u001b[0m\n\u001b[0m",
      "\u001b[0;31mNameError\u001b[0m: name 'dff' is not defined"
     ]
    }
   ],
   "source": [
    "dff.describe()"
   ]
  },
  {
   "cell_type": "code",
   "execution_count": null,
   "metadata": {},
   "outputs": [],
   "source": [
    "dff = index_CBOE[['Date', 'Shares']]\n",
    "dff.plot(color='g', figsize=(15,2)).set_title('')\n",
    "\n",
    "#No scale? "
   ]
  },
  {
   "cell_type": "code",
   "execution_count": null,
   "metadata": {},
   "outputs": [],
   "source": [
    "index_CBOE.Date[-1] - index_CBOE.Date[0] #12 day period "
   ]
  },
  {
   "cell_type": "code",
   "execution_count": null,
   "metadata": {
    "collapsed": true
   },
   "outputs": [],
   "source": [
    "#pivot table?? "
   ]
  },
  {
   "cell_type": "code",
   "execution_count": null,
   "metadata": {
    "collapsed": true
   },
   "outputs": [],
   "source": [
    "#Graphs\n",
    "#Price vs. Date\n",
    "#Shares vs. Date"
   ]
  },
  {
   "cell_type": "code",
   "execution_count": null,
   "metadata": {},
   "outputs": [],
   "source": [
    "index_CBOE.Date[0]"
   ]
  },
  {
   "cell_type": "code",
   "execution_count": null,
   "metadata": {},
   "outputs": [],
   "source": [
    "index_CBOE.Date[1] - index_CBOE.Date[0]"
   ]
  },
  {
   "cell_type": "code",
   "execution_count": null,
   "metadata": {
    "collapsed": true
   },
   "outputs": [],
   "source": []
  },
  {
   "cell_type": "code",
   "execution_count": null,
   "metadata": {},
   "outputs": [],
   "source": [
    "index_CBOE.Date.describe() #this is for a certain time interval of interest "
   ]
  },
  {
   "cell_type": "code",
   "execution_count": null,
   "metadata": {},
   "outputs": [],
   "source": [
    "index_CBOE.describe()"
   ]
  },
  {
   "cell_type": "code",
   "execution_count": null,
   "metadata": {},
   "outputs": [],
   "source": [
    "index_CBOE.shape"
   ]
  },
  {
   "cell_type": "code",
   "execution_count": null,
   "metadata": {
    "collapsed": true
   },
   "outputs": [],
   "source": [
    "#metrics\n",
    "#20min interval\n",
    "#1 day before annouce_dt: 02/28/2017  ... Add has announce_dt of 02/24/2017\n",
    "#3 days after efftv_dt: 03/01/2017\n",
    "#process_dt?  02/28/2017\n",
    "\n",
    "#share volume per day"
   ]
  }
 ],
 "metadata": {
  "kernelspec": {
   "display_name": "Python 3",
   "language": "python",
   "name": "python3"
  },
  "language_info": {
   "codemirror_mode": {
    "name": "ipython",
    "version": 3
   },
   "file_extension": ".py",
   "mimetype": "text/x-python",
   "name": "python",
   "nbconvert_exporter": "python",
   "pygments_lexer": "ipython3",
   "version": "3.6.1"
  }
 },
 "nbformat": 4,
 "nbformat_minor": 2
}
