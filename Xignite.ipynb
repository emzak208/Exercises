{
 "cells": [
  {
   "cell_type": "code",
   "execution_count": 1,
   "metadata": {
    "collapsed": true
   },
   "outputs": [],
   "source": [
    "import pandas as pd\n",
    "#https://www.xignite.com/Product/bond-master-data#/DeveloperResources/Request/LookupBondsByIdentifier"
   ]
  },
  {
   "cell_type": "code",
   "execution_count": 3,
   "metadata": {},
   "outputs": [
    {
     "data": {
      "text/plain": [
       "[{'Delay': 0.6105928,\n",
       "  'Identity': 'Request',\n",
       "  'InstrumentIdentifierBriefs': None,\n",
       "  'Issuer': None,\n",
       "  'Message': 'XigniteBondMaster: Maximum number of unregistered requests exceeded. Consider registering or subscribing to expand usage.Your request was authenticated using an HTTP request parameter. Your token is 7E7DFC59036741AFAC5F02C3277F8D25.  Please visit http://www.xignite.com/registration-help for more information. (bondmaster.xignite.com: 20) ',\n",
       "  'Outcome': 'RegistrationError'}]"
      ]
     },
     "execution_count": 3,
     "metadata": {},
     "output_type": "execute_result"
    }
   ],
   "source": [
    "from urllib.request import urlopen\n",
    "import json as simplejson\n",
    "#import simplejson\n",
    "\n",
    "XIGNITE_TOKEN = \"7E7DFC59036741AFAC5F02C3277F8D25\"\n",
    "XIGNITE_ENDPOINT = \"https://bondmaster.xignite.com/xBondMaster.json/LookupBondsByIdentifier?IdentifierType=CUSIP&Identifier=%s&IdentifierType=Symbol&_Token=%s\"\n",
    "\n",
    "def get_xignite_events(symbol):\n",
    "    endpoint = XIGNITE_ENDPOINT % (symbol, XIGNITE_TOKEN)\n",
    "    request = urlopen(endpoint)\n",
    "    return simplejson.loads(request.read())\n",
    "\n",
    "\n",
    "get_xignite_events('00206RAS1')\n"
   ]
  },
  {
   "cell_type": "code",
   "execution_count": 13,
   "metadata": {},
   "outputs": [
    {
     "data": {
      "text/plain": [
       "[{'Delay': 0.1875043,\n",
       "  'Identity': 'Request',\n",
       "  'InstrumentIdentifierBriefs': [{'CUSIP': None,\n",
       "    'ISIN': None,\n",
       "    'Valoren': '1795880'}],\n",
       "  'Issuer': {'CIK': '0000732717',\n",
       "   'CompanyIdentifier': 'GK330544',\n",
       "   'Domicile': 'UnitedStates',\n",
       "   'Industry': 'MajorTelecommunications',\n",
       "   'InstitutionType': 'Company',\n",
       "   'IssuerName': 'AT&T Inc',\n",
       "   'IssuerStatus': 'Active',\n",
       "   'Sector': 'Communications',\n",
       "   'ShortName': 'AT&T'},\n",
       "  'Message': None,\n",
       "  'Outcome': 'Success'}]"
      ]
     },
     "execution_count": 13,
     "metadata": {},
     "output_type": "execute_result"
    }
   ],
   "source": [
    "get_xignite_events('00206RAS1') #00206RAS1"
   ]
  },
  {
   "cell_type": "code",
   "execution_count": 79,
   "metadata": {
    "collapsed": true
   },
   "outputs": [],
   "source": [
    "#k = pd.DataFrame(d)"
   ]
  },
  {
   "cell_type": "code",
   "execution_count": 54,
   "metadata": {
    "collapsed": true
   },
   "outputs": [],
   "source": [
    "#Convert json response to dataframe with CIK output\n",
    "\n",
    "#df = pd.DataFrame(list(d.items()))"
   ]
  },
  {
   "cell_type": "code",
   "execution_count": 23,
   "metadata": {},
   "outputs": [
    {
     "data": {
      "text/html": [
       "<div>\n",
       "<table border=\"1\" class=\"dataframe\">\n",
       "  <thead>\n",
       "    <tr style=\"text-align: right;\">\n",
       "      <th></th>\n",
       "      <th>Delay</th>\n",
       "      <th>Identity</th>\n",
       "      <th>InstrumentIdentifierBriefs</th>\n",
       "      <th>Issuer</th>\n",
       "      <th>Message</th>\n",
       "      <th>Outcome</th>\n",
       "    </tr>\n",
       "  </thead>\n",
       "  <tbody>\n",
       "    <tr>\n",
       "      <th>0</th>\n",
       "      <td>0.187504</td>\n",
       "      <td>Request</td>\n",
       "      <td>[{'CUSIP': None, 'ISIN': None, 'Valoren': '179...</td>\n",
       "      <td>{'CIK': '0000732717', 'CompanyIdentifier': 'GK...</td>\n",
       "      <td>None</td>\n",
       "      <td>Success</td>\n",
       "    </tr>\n",
       "  </tbody>\n",
       "</table>\n",
       "</div>"
      ],
      "text/plain": [
       "      Delay Identity                         InstrumentIdentifierBriefs  \\\n",
       "0  0.187504  Request  [{'CUSIP': None, 'ISIN': None, 'Valoren': '179...   \n",
       "\n",
       "                                              Issuer Message  Outcome  \n",
       "0  {'CIK': '0000732717', 'CompanyIdentifier': 'GK...    None  Success  "
      ]
     },
     "execution_count": 23,
     "metadata": {},
     "output_type": "execute_result"
    }
   ],
   "source": [
    "#k"
   ]
  },
  {
   "cell_type": "code",
   "execution_count": 80,
   "metadata": {
    "collapsed": true
   },
   "outputs": [],
   "source": [
    "cik = d[0]['Issuer']['CIK']"
   ]
  },
  {
   "cell_type": "code",
   "execution_count": 82,
   "metadata": {
    "collapsed": true
   },
   "outputs": [],
   "source": [
    "company = d[0]['Issuer']['IssuerName']"
   ]
  },
  {
   "cell_type": "code",
   "execution_count": 81,
   "metadata": {},
   "outputs": [
    {
     "data": {
      "text/plain": [
       "'0000732717'"
      ]
     },
     "execution_count": 81,
     "metadata": {},
     "output_type": "execute_result"
    }
   ],
   "source": [
    "cik"
   ]
  },
  {
   "cell_type": "code",
   "execution_count": 83,
   "metadata": {},
   "outputs": [
    {
     "data": {
      "text/plain": [
       "'AT&T Inc'"
      ]
     },
     "execution_count": 83,
     "metadata": {},
     "output_type": "execute_result"
    }
   ],
   "source": [
    "company"
   ]
  },
  {
   "cell_type": "code",
   "execution_count": 88,
   "metadata": {},
   "outputs": [
    {
     "name": "stdout",
     "output_type": "stream",
     "text": [
      "00206RAS1\n",
      "00206RAS1\n"
     ]
    }
   ],
   "source": [
    "cusip_list = ['00206RAS1','00206RAS1'] #list of cusips\n",
    "\n",
    "ciks = []\n",
    "companies = []\n",
    "for i in cusip_list:\n",
    "    d = get_xignite_events(i)\n",
    "    ciks.append(d[0]['Issuer']['CIK'])\n",
    "    companies.append(d[0]['Issuer']['IssuerName'])\n",
    "    print(i)"
   ]
  },
  {
   "cell_type": "code",
   "execution_count": 90,
   "metadata": {},
   "outputs": [
    {
     "data": {
      "text/plain": [
       "['0000732717', '0000732717']"
      ]
     },
     "execution_count": 90,
     "metadata": {},
     "output_type": "execute_result"
    }
   ],
   "source": [
    "ciks"
   ]
  }
 ],
 "metadata": {
  "kernelspec": {
   "display_name": "Python 3",
   "language": "python",
   "name": "python3"
  },
  "language_info": {
   "codemirror_mode": {
    "name": "ipython",
    "version": 3
   },
   "file_extension": ".py",
   "mimetype": "text/x-python",
   "name": "python",
   "nbconvert_exporter": "python",
   "pygments_lexer": "ipython3",
   "version": "3.6.1"
  }
 },
 "nbformat": 4,
 "nbformat_minor": 2
}
